{
 "cells": [
  {
   "cell_type": "markdown",
   "id": "0ab32396",
   "metadata": {},
   "source": [
    "# Fourier series in numpy"
   ]
  },
  {
   "cell_type": "markdown",
   "id": "5d9994eb-af77-44c8-a1be-3a57d9ec163d",
   "metadata": {},
   "source": [
    "## code snippets from stackoverflow for refrence"
   ]
  },
  {
   "cell_type": "code",
   "execution_count": 4,
   "id": "ad217fbb-d6e0-4f9c-b273-b607f02d323f",
   "metadata": {},
   "outputs": [],
   "source": [
    "def fourier_series_coeff_numpy(f, T, N, return_complex=False):\n",
    "    \"\"\"Calculates the first 2*N+1 Fourier series coeff. of a periodic function.\n",
    "\n",
    "    Given a periodic, function f(t) with period T, this function returns the\n",
    "    coefficients a0, {a1,a2,...},{b1,b2,...} such that:\n",
    "\n",
    "    f(t) ~= a0/2+ sum_{k=1}^{N} ( a_k*cos(2*pi*k*t/T) + b_k*sin(2*pi*k*t/T) )\n",
    "\n",
    "    If return_complex is set to True, it returns instead the coefficients\n",
    "    {c0,c1,c2,...}\n",
    "    such that:\n",
    "\n",
    "    f(t) ~= sum_{k=-N}^{N} c_k * exp(i*2*pi*k*t/T)\n",
    "\n",
    "    where we define c_{-n} = complex_conjugate(c_{n})\n",
    "\n",
    "    Refer to wikipedia for the relation between the real-valued and complex\n",
    "    valued coeffs at http://en.wikipedia.org/wiki/Fourier_series.\n",
    "\n",
    "    Parameters\n",
    "    ----------\n",
    "    f : the periodic function, a callable like f(t)\n",
    "    T : the period of the function f, so that f(0)==f(T)\n",
    "    N_max : the function will return the first N_max + 1 Fourier coeff.\n",
    "\n",
    "    Returns\n",
    "    -------\n",
    "    if return_complex == False, the function returns:\n",
    "\n",
    "    a0 : float\n",
    "    a,b : numpy float arrays describing respectively the cosine and sine coeff.\n",
    "\n",
    "    if return_complex == True, the function returns:\n",
    "\n",
    "    c : numpy 1-dimensional complex-valued array of size N+1\n",
    "\n",
    "    \"\"\"\n",
    "    # From Shanon theoreom we must use a sampling freq. larger than the maximum\n",
    "    # frequency you want to catch in the signal.\n",
    "    f_sample = 2 * N\n",
    "    # we also need to use an integer sampling frequency, or the\n",
    "    # points will not be equispaced between 0 and 1. We then add +2 to f_sample\n",
    "    t, dt = np.linspace(0, T, f_sample + 2, endpoint=False, retstep=True)\n",
    "\n",
    "    y = np.fft.rfft(f(t)) / t.size\n",
    "\n",
    "    if return_complex:\n",
    "        return y\n",
    "    else:\n",
    "        y *= 2\n",
    "        return y[0].real, y[1:-1].real, -y[1:-1].imag\n"
   ]
  },
  {
   "cell_type": "code",
   "execution_count": 6,
   "id": "cd1a9a54-c51c-4692-8ee4-5e638e6395a1",
   "metadata": {},
   "outputs": [],
   "source": [
    "from numpy import ones_like, cos, pi, sin, allclose\n",
    "T = 1.5  # any real number\n",
    "\n",
    "def f(t):\n",
    "    \"\"\"example of periodic function in [0,T]\"\"\"\n",
    "    n1, n2, n3 = 1., 4., 7.  # in Hz, or nondimensional for the matter.\n",
    "    a0, a1, b4, a7 = 4., 2., -1., -3\n",
    "    return a0 / 2 * ones_like(t) + a1 * cos(2 * pi * n1 * t / T) + b4 * sin(\n",
    "        2 * pi * n2 * t / T) + a7 * cos(2 * pi * n3 * t / T)\n",
    "\n",
    "\n",
    "N_chosen = 10\n",
    "a0, a, b = fourier_series_coeff_numpy(f, T, N_chosen)\n",
    "\n",
    "# we have as expected that\n",
    "assert allclose(a0, 4)\n",
    "assert allclose(a, [2, 0, 0, 0, 0, 0, -3, 0, 0, 0])\n",
    "assert allclose(b, [0, 0, 0, -1, 0, 0, 0, 0, 0, 0])"
   ]
  },
  {
   "cell_type": "code",
   "execution_count": null,
   "id": "8ae080ac-b446-4186-8db9-d0b4367ce1b1",
   "metadata": {},
   "outputs": [],
   "source": []
  },
  {
   "cell_type": "code",
   "execution_count": null,
   "id": "8d61fc18-7c12-449c-90fd-e2539db10662",
   "metadata": {},
   "outputs": [],
   "source": []
  }
 ],
 "metadata": {
  "kernelspec": {
   "display_name": "classroom",
   "language": "python",
   "name": "classroom"
  },
  "language_info": {
   "codemirror_mode": {
    "name": "ipython",
    "version": 3
   },
   "file_extension": ".py",
   "mimetype": "text/x-python",
   "name": "python",
   "nbconvert_exporter": "python",
   "pygments_lexer": "ipython3",
   "version": "3.11.3"
  }
 },
 "nbformat": 4,
 "nbformat_minor": 5
}
