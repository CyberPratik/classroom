{
 "cells": [
  {
   "cell_type": "markdown",
   "id": "0ab32396",
   "metadata": {},
   "source": [
    "# Fourier series in numpy"
   ]
  },
  {
   "cell_type": "code",
   "execution_count": null,
   "id": "8d6f27b0",
   "metadata": {},
   "outputs": [],
   "source": []
  }
 ],
 "metadata": {
  "kernelspec": {
   "display_name": "classroom",
   "language": "python",
   "name": "classroom"
  },
  "language_info": {
   "codemirror_mode": {
    "name": "ipython",
    "version": 3
   },
   "file_extension": ".py",
   "mimetype": "text/x-python",
   "name": "python",
   "nbconvert_exporter": "python",
   "pygments_lexer": "ipython3",
   "version": "3.11.3"
  }
 },
 "nbformat": 4,
 "nbformat_minor": 5
}
