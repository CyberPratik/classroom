{
 "cells": [
  {
   "cell_type": "code",
   "execution_count": 1,
   "id": "87d07f85",
   "metadata": {},
   "outputs": [
    {
     "name": "stdout",
     "output_type": "stream",
     "text": [
      "On being a begineer\n"
     ]
    }
   ],
   "source": [
    "print(\"On being a begineer\")"
   ]
  },
  {
   "cell_type": "markdown",
   "id": "39573125-62e8-41e7-b439-f4209ff88e4e",
   "metadata": {},
   "source": [
    "This is a markdown"
   ]
  },
  {
   "cell_type": "raw",
   "id": "af20de78-4746-4954-a771-1ec7d8a08321",
   "metadata": {},
   "source": [
    "This is raw"
   ]
  },
  {
   "cell_type": "markdown",
   "id": "530d341c-fb67-48b8-8027-5dbd2e734f80",
   "metadata": {},
   "source": [
    "## This is markdown"
   ]
  },
  {
   "cell_type": "code",
   "execution_count": 3,
   "id": "4878df84-1dde-41a6-89d4-af9ee21a4059",
   "metadata": {},
   "outputs": [],
   "source": [
    "import numpy as np"
   ]
  },
  {
   "cell_type": "code",
   "execution_count": null,
   "id": "2f87ad94-069c-44e6-a16e-4aaa2cbcbdca",
   "metadata": {},
   "outputs": [],
   "source": []
  }
 ],
 "metadata": {
  "kernelspec": {
   "display_name": "Python 3 (ipykernel)",
   "language": "python",
   "name": "python3"
  },
  "language_info": {
   "codemirror_mode": {
    "name": "ipython",
    "version": 3
   },
   "file_extension": ".py",
   "mimetype": "text/x-python",
   "name": "python",
   "nbconvert_exporter": "python",
   "pygments_lexer": "ipython3",
   "version": "3.11.2"
  }
 },
 "nbformat": 4,
 "nbformat_minor": 5
}
