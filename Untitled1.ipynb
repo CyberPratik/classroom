{
 "cells": [
  {
   "cell_type": "code",
   "execution_count": 44,
   "id": "613916d0-6ef1-493c-aac4-15175152eea7",
   "metadata": {},
   "outputs": [],
   "source": [
    "f = open(\"demofile.txt\", \"r\")"
   ]
  },
  {
   "cell_type": "code",
   "execution_count": 59,
   "id": "6e683731-97d7-42f6-ae90-cfa0575208af",
   "metadata": {},
   "outputs": [
    {
     "name": "stdout",
     "output_type": "stream",
     "text": [
      "\n"
     ]
    }
   ],
   "source": [
    "print(f.read())    "
   ]
  },
  {
   "cell_type": "code",
   "execution_count": null,
   "id": "73807e24-32a1-40d5-b967-3ac7e85ecaf1",
   "metadata": {},
   "outputs": [],
   "source": []
  }
 ],
 "metadata": {
  "kernelspec": {
   "display_name": "classroom",
   "language": "python",
   "name": "classroom"
  },
  "language_info": {
   "codemirror_mode": {
    "name": "ipython",
    "version": 3
   },
   "file_extension": ".py",
   "mimetype": "text/x-python",
   "name": "python",
   "nbconvert_exporter": "python",
   "pygments_lexer": "ipython3",
   "version": "3.11.3"
  }
 },
 "nbformat": 4,
 "nbformat_minor": 5
}
