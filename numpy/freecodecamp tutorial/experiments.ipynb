{
 "cells": [
  {
   "cell_type": "markdown",
   "id": "b6583d00-e244-42e0-a5e0-974e8c5db018",
   "metadata": {},
   "source": [
    "# Managing my numpy experiments"
   ]
  },
  {
   "cell_type": "code",
   "execution_count": 3,
   "id": "19ab5233-732e-409d-a864-a287a94e9c36",
   "metadata": {},
   "outputs": [],
   "source": [
    "import numpy as np"
   ]
  },
  {
   "cell_type": "code",
   "execution_count": 8,
   "id": "c4732aae-bd4b-4530-8a9d-a8cc3c42223c",
   "metadata": {},
   "outputs": [],
   "source": [
    "def main():\n",
    "    x = np.array([0, 30, 60, 90, 120, 150])\n",
    "    print(\"\\nX = \",x)\n",
    "    print(\"\\nEnter values of Y seperated by a space : \")\n",
    "    y = np.array(list(map(float, input().split())))\n",
    "    print(\"\\nY = \",y)\n",
    "    \n",
    "    harmonic=int(input(\"\\nHow many harmonics do you require for your analysis: \"))\n",
    "\n",
    "    my_table = genreate_harmonic_analysis_table(x,y,harmonic)\n",
    "    print_table(my_table)\n",
    "    print_summations(my_table)\n",
    "\n",
    "def r2d(num):\n",
    "    return num*np.pi/180"
   ]
  },
  {
   "cell_type": "code",
   "execution_count": 23,
   "id": "aee00b42-08ee-455b-8ff0-b71c502ebd3e",
   "metadata": {},
   "outputs": [
    {
     "name": "stdout",
     "output_type": "stream",
     "text": [
      "[[  0   1   1   1   1   1   1   1]\n",
      " [ 30   2   0   1   1   1   1   1]\n",
      " [ 60   3  -1   1   1   1   1   1]\n",
      " [ 90   4   1   1   1   1   1   1]\n",
      " [120   5   0   1   1   1   1   1]\n",
      " [150   6  -1   1   1   1   1   1]]\n"
     ]
    }
   ],
   "source": [
    "x = np.array([0, 30, 60, 90, 120, 150])\n",
    "y = np.array([1,2,3,4,5,6])\n",
    "\n",
    "def genrate_harmonics(x,y,harmonic=3):\n",
    "    tbl = np.ones((6,8), dtype='int32')\n",
    "    \n",
    "    tbl[:,0]=x\n",
    "    tbl[:,1]=y\n",
    "\n",
    "    tbl[:,2]=np.cos(tbl[:,0]*r2d(tbl[:,1]))\n",
    "    print(tbl)\n",
    "\n",
    "genrate_harmonics(x,y)"
   ]
  },
  {
   "cell_type": "code",
   "execution_count": null,
   "id": "d437a825-1e54-4793-9e2b-9a889e1fd04b",
   "metadata": {},
   "outputs": [],
   "source": []
  }
 ],
 "metadata": {
  "kernelspec": {
   "display_name": "classroom",
   "language": "python",
   "name": "classroom"
  },
  "language_info": {
   "codemirror_mode": {
    "name": "ipython",
    "version": 3
   },
   "file_extension": ".py",
   "mimetype": "text/x-python",
   "name": "python",
   "nbconvert_exporter": "python",
   "pygments_lexer": "ipython3",
   "version": "3.11.3"
  }
 },
 "nbformat": 4,
 "nbformat_minor": 5
}
