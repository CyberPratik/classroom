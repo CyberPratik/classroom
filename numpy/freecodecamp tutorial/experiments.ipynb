{
 "cells": [
  {
   "cell_type": "markdown",
   "id": "b6583d00-e244-42e0-a5e0-974e8c5db018",
   "metadata": {},
   "source": [
    "# Managing my numpy experiments"
   ]
  },
  {
   "cell_type": "code",
   "execution_count": 79,
   "id": "19ab5233-732e-409d-a864-a287a94e9c36",
   "metadata": {},
   "outputs": [],
   "source": [
    "import numpy as np"
   ]
  },
  {
   "cell_type": "code",
   "execution_count": 90,
   "id": "c4732aae-bd4b-4530-8a9d-a8cc3c42223c",
   "metadata": {},
   "outputs": [],
   "source": [
    "def main():\n",
    "    x = np.array([0, 30, 60, 90, 120, 150])\n",
    "    y = np.array([1,2,3,4,5,6])\n",
    "    print(\"\\nX = \",x)\n",
    "    print(\"\\nEnter values of Y seperated by a space : \")\n",
    "    # y = np.array(list(map(float, input().split())))\n",
    "    print(\"\\nY = \",y)\n",
    "    \n",
    "    harmonic=int(input(\"\\nHow many harmonics do you require for your analysis: \"))\n",
    "\n",
    "    my_table = genreate_harmonic_analysis_table(x,y,harmonic)\n",
    "    print(my_table)\n",
    "    print(coefficients)\n",
    "\n",
    "def r2d(num):\n",
    "    return num*np.pi/180"
   ]
  },
  {
   "cell_type": "code",
   "execution_count": 91,
   "id": "aee00b42-08ee-455b-8ff0-b71c502ebd3e",
   "metadata": {},
   "outputs": [
    {
     "name": "stdout",
     "output_type": "stream",
     "text": [
      "[[  0.     1.     1.     1.     1.     0.     0.     0.  ]\n",
      " [ 30.     2.     1.74   1.     0.     1.     1.74   2.  ]\n",
      " [ 60.     3.     1.5   -1.5   -3.     2.61   2.61   0.  ]\n",
      " [ 90.     4.     0.    -4.    -0.     4.     0.    -4.  ]\n",
      " [120.     5.    -2.5   -2.5    5.     4.35  -4.35  -0.  ]\n",
      " [150.     6.    -5.22   3.     0.     3.    -5.22   6.  ]]\n"
     ]
    }
   ],
   "source": [
    "x = np.array([0, 30, 60, 90, 120, 150])\n",
    "y = np.array([1,2,3,4,5,6])\n",
    "\n",
    "def genreate_harmonic_analysis_table(x,y,harmonic=3):\n",
    "    tbl = np.ones((6,2+2*harmonic), dtype='float32')\n",
    "    \n",
    "    tbl[:,0]=np.round(x,2)\n",
    "    tbl[:,1]=np.round(y,2)\n",
    "\n",
    "    for i in range(2*harmonic):\n",
    "        if i<harmonic:\n",
    "            temp = np.round(np.cos((i+1)*r2d(x)),2)\n",
    "            temp=np.multiply(temp,tbl[:,1])\n",
    "            tbl[:,i+2]=temp\n",
    "        else:\n",
    "            temp = np.round(np.sin((i-2)*r2d(x)),2)\n",
    "            temp=np.multiply(temp,tbl[:,1])\n",
    "            tbl[:,i+2]=temp\n",
    "            \n",
    "    return tbl\n",
    "\n",
    "print(genreate_harmonic_analysis_table(x,y,harmonic=3))"
   ]
  },
  {
   "cell_type": "markdown",
   "id": "9f9419ed-20e9-449a-b780-18f16e900385",
   "metadata": {},
   "source": [
    "## Summations Of colums"
   ]
  },
  {
   "cell_type": "code",
   "execution_count": 92,
   "id": "a02909e0-f094-43b6-ac5f-f262df5d9344",
   "metadata": {},
   "outputs": [
    {
     "name": "stdout",
     "output_type": "stream",
     "text": [
      "[[21.  ]\n",
      " [-3.48]\n",
      " [-3.  ]\n",
      " [ 3.  ]\n",
      " [14.96]\n",
      " [-5.22]\n",
      " [ 4.  ]]\n"
     ]
    }
   ],
   "source": [
    "def genrate_summations(tbl):\n",
    "    hrm = tbl.shape[1]-1\n",
    "    sum_tbl=np.full(hrm,1,dtype='float32')\n",
    "\n",
    "    for i in range(hrm):\n",
    "        sum_tbl[i]=np.round(np.sum(tbl[:,i+1]),2)\n",
    "\n",
    "    sum_tbl = np.reshape(sum_tbl,(hrm,1))\n",
    "    return sum_tbl\n",
    "\n",
    "tbl = genreate_harmonic_analysis_table(x,y,3)\n",
    "\n",
    "print(genrate_summations(tbl))"
   ]
  },
  {
   "cell_type": "markdown",
   "id": "bcb9c645-1d26-431f-865f-a6a0a0e29bd6",
   "metadata": {},
   "source": [
    "## Coefficients"
   ]
  },
  {
   "cell_type": "code",
   "execution_count": 93,
   "id": "406837bc-c86a-4a2f-8a3e-4a9f84979196",
   "metadata": {},
   "outputs": [
    {
     "name": "stdout",
     "output_type": "stream",
     "text": [
      "[[ 7.  ]\n",
      " [-1.16]\n",
      " [-1.  ]\n",
      " [ 1.  ]\n",
      " [ 4.99]\n",
      " [-1.74]\n",
      " [ 1.33]]\n"
     ]
    }
   ],
   "source": [
    "coefficients = np.round(genrate_summations(tbl)/3,2)\n",
    "\n",
    "print(coefficients)"
   ]
  },
  {
   "cell_type": "markdown",
   "id": "12c62a11-8d32-41c5-891b-d5eee8b1f340",
   "metadata": {},
   "source": [
    "## Final Output"
   ]
  },
  {
   "cell_type": "code",
   "execution_count": 94,
   "id": "6253e6ee-3bf5-4ad7-a885-6b1ff62195af",
   "metadata": {},
   "outputs": [
    {
     "name": "stdout",
     "output_type": "stream",
     "text": [
      "X =  [  0  30  60  90 120 150]\n",
      "Y =  [1 2 3 4 5 6]\n",
      "[[  0.     1.     1.     1.     1.     0.     0.     0.  ]\n",
      " [ 30.     2.     1.74   1.     0.     1.     1.74   2.  ]\n",
      " [ 60.     3.     1.5   -1.5   -3.     2.61   2.61   0.  ]\n",
      " [ 90.     4.     0.    -4.    -0.     4.     0.    -4.  ]\n",
      " [120.     5.    -2.5   -2.5    5.     4.35  -4.35  -0.  ]\n",
      " [150.     6.    -5.22   3.     0.     3.    -5.22   6.  ]]\n",
      "[[ 7.  ]\n",
      " [-1.16]\n",
      " [-1.  ]\n",
      " [ 1.  ]\n",
      " [ 4.99]\n",
      " [-1.74]\n",
      " [ 1.33]]\n"
     ]
    }
   ],
   "source": [
    "print(\"X = \",x)\n",
    "print(\"Y = \",y)\n",
    "print(tbl)\n",
    "print(coefficients)"
   ]
  },
  {
   "cell_type": "code",
   "execution_count": 95,
   "id": "668b7b26-207d-4f99-9816-707e5aec2c62",
   "metadata": {},
   "outputs": [
    {
     "name": "stdout",
     "output_type": "stream",
     "text": [
      "\n",
      "X =  [  0  30  60  90 120 150]\n",
      "\n",
      "Enter values of Y seperated by a space : \n",
      "\n",
      "Y =  [1 2 3 4 5 6]\n"
     ]
    },
    {
     "name": "stdin",
     "output_type": "stream",
     "text": [
      "\n",
      "How many harmonics do you require for your analysis:  3\n"
     ]
    },
    {
     "name": "stdout",
     "output_type": "stream",
     "text": [
      "[[  0.     1.     1.     1.     1.     0.     0.     0.  ]\n",
      " [ 30.     2.     1.74   1.     0.     1.     1.74   2.  ]\n",
      " [ 60.     3.     1.5   -1.5   -3.     2.61   2.61   0.  ]\n",
      " [ 90.     4.     0.    -4.    -0.     4.     0.    -4.  ]\n",
      " [120.     5.    -2.5   -2.5    5.     4.35  -4.35  -0.  ]\n",
      " [150.     6.    -5.22   3.     0.     3.    -5.22   6.  ]]\n",
      "[[ 7.  ]\n",
      " [-1.16]\n",
      " [-1.  ]\n",
      " [ 1.  ]\n",
      " [ 4.99]\n",
      " [-1.74]\n",
      " [ 1.33]]\n"
     ]
    }
   ],
   "source": [
    "main()"
   ]
  },
  {
   "cell_type": "code",
   "execution_count": null,
   "id": "c5f2fc96-f4dc-49b0-99f6-b5c1be489c8a",
   "metadata": {},
   "outputs": [],
   "source": []
  }
 ],
 "metadata": {
  "kernelspec": {
   "display_name": "classroom",
   "language": "python",
   "name": "classroom"
  },
  "language_info": {
   "codemirror_mode": {
    "name": "ipython",
    "version": 3
   },
   "file_extension": ".py",
   "mimetype": "text/x-python",
   "name": "python",
   "nbconvert_exporter": "python",
   "pygments_lexer": "ipython3",
   "version": "3.11.3"
  }
 },
 "nbformat": 4,
 "nbformat_minor": 5
}
