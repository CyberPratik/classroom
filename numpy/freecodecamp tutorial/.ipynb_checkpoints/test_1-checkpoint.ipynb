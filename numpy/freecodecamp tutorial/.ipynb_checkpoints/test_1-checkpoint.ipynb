{
 "cells": [
  {
   "cell_type": "markdown",
   "id": "09b87522-29fa-4aee-b5d9-fce1cfed1d11",
   "metadata": {},
   "source": [
    "# Tutorial 1"
   ]
  },
  {
   "cell_type": "markdown",
   "id": "702a25e0-b0e5-4758-aa06-26d0ce5b04d8",
   "metadata": {
    "jp-MarkdownHeadingCollapsed": true
   },
   "source": [
    "##### June 12 2023"
   ]
  },
  {
   "cell_type": "markdown",
   "id": "17fbfde9-ffed-470f-bdbc-5130cc609b1d",
   "metadata": {},
   "source": [
    "### Why numpy is fast\n",
    "* faster to read less bytes of memory\n",
    "* it has contiguous Memory (stores data next to eachother unlike lists where data is scattered)\n",
    "* SIMD Vector processing\n",
    "* single instructions multiple data\n",
    "* Effective cache utilization"
   ]
  },
  {
   "cell_type": "code",
   "execution_count": 1,
   "id": "ae6c9eeb-1098-447c-ab2f-070c21ebea8a",
   "metadata": {},
   "outputs": [],
   "source": [
    "import numpy as np"
   ]
  },
  {
   "cell_type": "code",
   "execution_count": 5,
   "id": "22b13b91-df61-4868-9458-6c294fee6f51",
   "metadata": {},
   "outputs": [],
   "source": [
    "a=[1,3,5]\n",
    "b=[1,2,3]\n",
    "\n",
    "c=np.array([1,3,5])\n",
    "d=np.array([1,2,3])"
   ]
  },
  {
   "cell_type": "markdown",
   "id": "aa82f8a5-6c7f-4839-9556-cd875391fb33",
   "metadata": {},
   "source": [
    "Attempt multiplication in lists"
   ]
  },
  {
   "cell_type": "code",
   "execution_count": 6,
   "id": "119e9df2-c172-4661-88b0-1dfcb1177df5",
   "metadata": {},
   "outputs": [
    {
     "ename": "TypeError",
     "evalue": "can't multiply sequence by non-int of type 'list'",
     "output_type": "error",
     "traceback": [
      "\u001b[1;31m---------------------------------------------------------------------------\u001b[0m",
      "\u001b[1;31mTypeError\u001b[0m                                 Traceback (most recent call last)",
      "Cell \u001b[1;32mIn[6], line 1\u001b[0m\n\u001b[1;32m----> 1\u001b[0m a\u001b[38;5;241m*\u001b[39mb\n",
      "\u001b[1;31mTypeError\u001b[0m: can't multiply sequence by non-int of type 'list'"
     ]
    }
   ],
   "source": [
    "a*b"
   ]
  },
  {
   "cell_type": "code",
   "execution_count": 7,
   "id": "1bfe1660-e007-4ba9-8aa3-07846432f033",
   "metadata": {},
   "outputs": [
    {
     "data": {
      "text/plain": [
       "array([ 1,  6, 15])"
      ]
     },
     "execution_count": 7,
     "metadata": {},
     "output_type": "execute_result"
    }
   ],
   "source": [
    "c*d"
   ]
  },
  {
   "cell_type": "markdown",
   "id": "eef499d7-5e8d-478b-b334-02cbfa4c0420",
   "metadata": {},
   "source": [
    "As we can see we cant multiply two matrices in lists while we can do so  in numpy"
   ]
  },
  {
   "cell_type": "markdown",
   "id": "1b42df47-8f84-4bfa-941b-8a724b267e9f",
   "metadata": {},
   "source": [
    "Itemwise computition which is pretty neas"
   ]
  },
  {
   "cell_type": "markdown",
   "id": "bbd156a7-6b79-4733-a082-8d26ef5ffdb3",
   "metadata": {},
   "source": [
    "# Applications of numpy\n",
    "* mathematics (MATLAB replacement)\n",
    "* Plotting (Matplotlib)\n",
    "* Backend (pandas, connect4, Digital photography)\n",
    "* Machine learning"
   ]
  },
  {
   "cell_type": "code",
   "execution_count": 9,
   "id": "11d83077-fb90-4b6d-8fb9-41d270d5c5df",
   "metadata": {},
   "outputs": [
    {
     "name": "stdout",
     "output_type": "stream",
     "text": [
      "[1 2 3 4]\n"
     ]
    }
   ],
   "source": [
    "a = np.array([1,2,3,4])\n",
    "print(a)"
   ]
  },
  {
   "cell_type": "code",
   "execution_count": 11,
   "id": "9b92f67a-046f-4fe1-b9f3-f55db8da2e71",
   "metadata": {},
   "outputs": [
    {
     "name": "stdout",
     "output_type": "stream",
     "text": [
      "[[1 2 3 4]\n",
      " [5 6 7 8]]\n"
     ]
    }
   ],
   "source": [
    "b = np.array([[1,2,3,4],[5,6,7,8]])\n",
    "print(b)"
   ]
  },
  {
   "cell_type": "markdown",
   "id": "2c2d17af-a4ae-43a0-af84-e24cbd55708f",
   "metadata": {},
   "source": [
    "Calculate dimentions of array"
   ]
  },
  {
   "cell_type": "code",
   "execution_count": 14,
   "id": "beb3e27c-8155-480d-a8f5-0b94a1634b52",
   "metadata": {},
   "outputs": [
    {
     "data": {
      "text/plain": [
       "1"
      ]
     },
     "execution_count": 14,
     "metadata": {},
     "output_type": "execute_result"
    }
   ],
   "source": [
    "a.ndim"
   ]
  },
  {
   "cell_type": "code",
   "execution_count": 15,
   "id": "4d951680-f475-4f0e-bf82-2186d8655d26",
   "metadata": {},
   "outputs": [
    {
     "data": {
      "text/plain": [
       "2"
      ]
     },
     "execution_count": 15,
     "metadata": {},
     "output_type": "execute_result"
    }
   ],
   "source": [
    "b.ndim"
   ]
  },
  {
   "cell_type": "code",
   "execution_count": 16,
   "id": "c003e412-0c4a-4851-9d59-4ebfce4cce03",
   "metadata": {},
   "outputs": [
    {
     "data": {
      "text/plain": [
       "(2, 4)"
      ]
     },
     "execution_count": 16,
     "metadata": {},
     "output_type": "execute_result"
    }
   ],
   "source": [
    "b.shape"
   ]
  },
  {
   "cell_type": "code",
   "execution_count": 17,
   "id": "e551bb4f-a5c2-49a5-888b-a40f4cfccf03",
   "metadata": {},
   "outputs": [
    {
     "data": {
      "text/plain": [
       "(4,)"
      ]
     },
     "execution_count": 17,
     "metadata": {},
     "output_type": "execute_result"
    }
   ],
   "source": [
    "a.shape"
   ]
  },
  {
   "cell_type": "code",
   "execution_count": 18,
   "id": "257eb3ce-a1f9-4d17-b8fa-25994ac9576f",
   "metadata": {},
   "outputs": [
    {
     "data": {
      "text/plain": [
       "dtype('int32')"
      ]
     },
     "execution_count": 18,
     "metadata": {},
     "output_type": "execute_result"
    }
   ],
   "source": [
    "a.dtype"
   ]
  },
  {
   "cell_type": "code",
   "execution_count": 19,
   "id": "902a3596-571d-4244-a17c-5492adb8bff2",
   "metadata": {},
   "outputs": [
    {
     "data": {
      "text/plain": [
       "4"
      ]
     },
     "execution_count": 19,
     "metadata": {},
     "output_type": "execute_result"
    }
   ],
   "source": [
    "a.itemsize"
   ]
  },
  {
   "cell_type": "code",
   "execution_count": 21,
   "id": "d46390e5-119e-4ce6-932d-d86bf1229fc6",
   "metadata": {},
   "outputs": [
    {
     "data": {
      "text/plain": [
       "16"
      ]
     },
     "execution_count": 21,
     "metadata": {},
     "output_type": "execute_result"
    }
   ],
   "source": [
    "# total size\n",
    "a.nbytes"
   ]
  },
  {
   "cell_type": "markdown",
   "id": "a9edb1ec-0e40-4df2-80fb-5ea6a12e4f7a",
   "metadata": {},
   "source": [
    "## Accessing cahnging specific elements, rows colums "
   ]
  },
  {
   "cell_type": "code",
   "execution_count": 22,
   "id": "5c2a9247-917f-4264-88c8-b5a55ce6fb57",
   "metadata": {},
   "outputs": [
    {
     "name": "stdout",
     "output_type": "stream",
     "text": [
      "[[1 2 3]\n",
      " [4 5 6]\n",
      " [7 8 9]]\n"
     ]
    }
   ],
   "source": [
    "a=np.array([[1,2,3],[4,5,6],[7,8,9]])\n",
    "print(a)"
   ]
  },
  {
   "cell_type": "code",
   "execution_count": 25,
   "id": "00b35ec8-cf13-4a6d-80be-781f3dac9976",
   "metadata": {},
   "outputs": [
    {
     "name": "stdout",
     "output_type": "stream",
     "text": [
      "3\n",
      "1\n"
     ]
    }
   ],
   "source": [
    "print(a[0][2])\n",
    "print(a[0][0])"
   ]
  },
  {
   "cell_type": "code",
   "execution_count": 30,
   "id": "d8a9a605-67d5-42ad-b75f-92a3b786705a",
   "metadata": {},
   "outputs": [
    {
     "data": {
      "text/plain": [
       "array([1, 2, 3])"
      ]
     },
     "execution_count": 30,
     "metadata": {},
     "output_type": "execute_result"
    }
   ],
   "source": [
    "# Get a specific row (First row)\n",
    "a[0,:]"
   ]
  },
  {
   "cell_type": "code",
   "execution_count": 31,
   "id": "b0a38e04-49ae-42bc-b01a-d8a99ba95213",
   "metadata": {},
   "outputs": [
    {
     "data": {
      "text/plain": [
       "array([1, 4, 7])"
      ]
     },
     "execution_count": 31,
     "metadata": {},
     "output_type": "execute_result"
    }
   ],
   "source": [
    "# Get a specific colum (First colum)\n",
    "a[:,0]"
   ]
  },
  {
   "cell_type": "markdown",
   "id": "a54a8541-3d0f-4ff3-8b23-2d2cf29b6178",
   "metadata": {},
   "source": [
    "# initilising different types of arrays"
   ]
  },
  {
   "cell_type": "markdown",
   "id": "15a450b5-f901-46ac-920f-7330959af38a",
   "metadata": {},
   "source": [
    "# Zero array\n",
    "zero_array = np.zeros((3,2), dtype='int32')\n",
    "print(zero_array)"
   ]
  },
  {
   "cell_type": "code",
   "execution_count": 41,
   "id": "1ff5f99d-a8dc-469d-b742-af366d5c6d13",
   "metadata": {},
   "outputs": [
    {
     "name": "stdout",
     "output_type": "stream",
     "text": [
      "[[1 1]\n",
      " [1 1]\n",
      " [1 1]]\n"
     ]
    }
   ],
   "source": [
    "# unit array\n",
    "unit_array = np.ones((3,2), dtype='int32')\n",
    "print(unit_array)"
   ]
  },
  {
   "cell_type": "code",
   "execution_count": 42,
   "id": "608ac6ed-6cff-4509-b492-b246d315d804",
   "metadata": {},
   "outputs": [
    {
     "name": "stdout",
     "output_type": "stream",
     "text": [
      "[[6 6]\n",
      " [6 6]]\n"
     ]
    }
   ],
   "source": [
    "g = np.full((2,2), 6, dtype='int32')\n",
    "print(g)"
   ]
  },
  {
   "cell_type": "code",
   "execution_count": 52,
   "id": "94eb484e-71b3-4de8-b710-965aa3c98e76",
   "metadata": {},
   "outputs": [
    {
     "data": {
      "text/plain": [
       "array([[2, 2, 2],\n",
       "       [2, 2, 2]])"
      ]
     },
     "execution_count": 52,
     "metadata": {},
     "output_type": "execute_result"
    }
   ],
   "source": [
    "# random decimal numbers\n",
    "np.random.randint(2,3, size=(2,3))"
   ]
  },
  {
   "cell_type": "code",
   "execution_count": 55,
   "id": "9c228969-728f-4c6e-bca3-4edbb150288b",
   "metadata": {},
   "outputs": [
    {
     "data": {
      "text/plain": [
       "array([[1., 0., 0.],\n",
       "       [0., 1., 0.],\n",
       "       [0., 0., 1.]])"
      ]
     },
     "execution_count": 55,
     "metadata": {},
     "output_type": "execute_result"
    }
   ],
   "source": [
    "#Identit matrix\n",
    "np.identity(3)"
   ]
  },
  {
   "cell_type": "code",
   "execution_count": 59,
   "id": "5b3bab31-4eaa-4eec-bc23-9fd6f8a4a207",
   "metadata": {},
   "outputs": [
    {
     "name": "stdout",
     "output_type": "stream",
     "text": [
      "[[1 2 3]\n",
      " [1 2 3]\n",
      " [1 2 3]\n",
      " [4 5 6]\n",
      " [4 5 6]\n",
      " [4 5 6]]\n"
     ]
    }
   ],
   "source": [
    "arr = np.array([[1,2,3],[4,5,6]])\n",
    "repeat = np.repeat(arr,3, axis=0)\n",
    "print(repeat)"
   ]
  },
  {
   "cell_type": "markdown",
   "id": "52346f17-892c-4bbf-8a25-9f65348cd1c5",
   "metadata": {},
   "source": [
    "# Create this matrix without manuall typing elements"
   ]
  },
  {
   "cell_type": "code",
   "execution_count": null,
   "id": "50e33791-c1f7-45ec-b466-05bc1fcbcbb4",
   "metadata": {},
   "outputs": [],
   "source": []
  }
 ],
 "metadata": {
  "kernelspec": {
   "display_name": "classroom",
   "language": "python",
   "name": "classroom"
  },
  "language_info": {
   "codemirror_mode": {
    "name": "ipython",
    "version": 3
   },
   "file_extension": ".py",
   "mimetype": "text/x-python",
   "name": "python",
   "nbconvert_exporter": "python",
   "pygments_lexer": "ipython3",
   "version": "3.11.3"
  }
 },
 "nbformat": 4,
 "nbformat_minor": 5
}
