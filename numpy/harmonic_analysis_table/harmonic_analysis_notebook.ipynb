{
 "cells": [
  {
   "cell_type": "markdown",
   "id": "852da207-b1a7-4048-b4ca-d3b6b7248e4b",
   "metadata": {},
   "source": [
    "### Harmonic analysis table for fourier transformations"
   ]
  },
  {
   "cell_type": "code",
   "execution_count": 17,
   "id": "0140d1c0-91c0-429d-806b-ebc724d7e9d1",
   "metadata": {},
   "outputs": [],
   "source": [
    "import math\n",
    "\n",
    "sum_list = [0]\n",
    "coefficient_list = []\n",
    "my_table = []"
   ]
  },
  {
   "cell_type": "code",
   "execution_count": 18,
   "id": "b5465d83-d65a-476f-a338-63438a6648ea",
   "metadata": {},
   "outputs": [],
   "source": [
    "def main():\n",
    "    #x=[0, 60, 120, 240, 300]\n",
    "    #x=[0, 30, 60, 90, 120, 150, 180, 210, 240, 270, 300, 330]\n",
    "    #x = list(map(float, input().split()))\n",
    "\n",
    "    x=[0, 30, 60, 90, 120, 150]\n",
    "    print(\"\\nX = \",x)\n",
    "    print(\"\\nEnter values of Y seperated by a space : \")\n",
    "    y = list(map(float, input().split()))\n",
    "\n",
    "    harmonic=int(input(\"\\nHow many harmonics do you require for your analysis : \"))\n",
    "\n",
    "    my_table = genreate_harmonic_analysis_table(x,y,harmonic)\n",
    "    print_table(my_table)\n",
    "    print_summations(my_table)"
   ]
  },
  {
   "cell_type": "code",
   "execution_count": 19,
   "id": "15379d33-23ba-4414-976c-9fe8bfd05a7e",
   "metadata": {},
   "outputs": [],
   "source": [
    "def r2d(num):\n",
    "    return num*math.pi/180"
   ]
  },
  {
   "cell_type": "code",
   "execution_count": 20,
   "id": "ab06a97b-a6ae-4d46-b487-271e7c9c0f9a",
   "metadata": {},
   "outputs": [],
   "source": [
    "def genreate_harmonic_analysis_table(x,y,harmonic=3):\n",
    "    tbl=[]\n",
    "    cols = 2 + harmonic*2\n",
    "    tbl = [ [0 for i in range(cols)] for j in range(6)]\n",
    "\n",
    "    for r in range(len(tbl)):\n",
    "        tbl[r][0]=x[r]\n",
    "        tbl[r][1]=y[r]\n",
    "        for c in range(len(tbl[r])):\n",
    "            current_colum=2\n",
    "\n",
    "            for i in range(harmonic):\n",
    "                tbl[r][current_colum] = y[r]*math.cos(r2d((i+1)*x[r]))\n",
    "                current_colum+=1\n",
    "                \n",
    "            for i in range(harmonic):\n",
    "                tbl[r][current_colum] = y[r]*math.sin(r2d((i+1)*x[r]))\n",
    "                current_colum+=1\n",
    "                \n",
    "    return tbl"
   ]
  },
  {
   "cell_type": "code",
   "execution_count": 21,
   "id": "d26efd75-5307-40ce-8681-536f91656f28",
   "metadata": {},
   "outputs": [],
   "source": [
    "def r2d(num):\n",
    "    return num*math.pi/180"
   ]
  },
  {
   "cell_type": "code",
   "execution_count": 22,
   "id": "3669714a-b359-404d-8717-c9983da4501e",
   "metadata": {},
   "outputs": [],
   "source": [
    "def print_table(tbl):\n",
    "    print()\n",
    "    harmonic = int((len(tbl[0])-2)/2)\n",
    "    print(\"X\\t\\tY\\t\\t\",end=\"\")\n",
    "\n",
    "    print(\"Ycosx\\t\\t\",end=\"\")\n",
    "    for i in range(harmonic-1):\n",
    "        print(\"Ycos\" + str(i+2) + \"x\\t\\t\",end=\"\")\n",
    "\n",
    "    print(\"Ysinx\\t\\t\",end=\"\")\n",
    "    for i in range(harmonic-1):\n",
    "        print(\"Ysin\" + str(i+2) + \"x\\t\\t\",end=\"\")\n",
    "    \n",
    "    for i in tbl:\n",
    "        print(\"\\n\")\n",
    "        for j in i:\n",
    "            print(round(j,2),end=\"\\t\\t\")"
   ]
  },
  {
   "cell_type": "code",
   "execution_count": 23,
   "id": "7f561edb-2f12-401e-a869-4421fcb6f166",
   "metadata": {},
   "outputs": [],
   "source": [
    "def print_summations(tbl):\n",
    "    harmonic = int((len(tbl[0])-2)/2)\n",
    "    current_colum=3\n",
    "\n",
    "    def summation_of_col(col):\n",
    "        sum=0\n",
    "        for i in range(6):\n",
    "            sum = sum + tbl[i][col]\n",
    "        return round(sum,2)\n",
    "\n",
    "    for i in range(harmonic*2+1):\n",
    "        sum_list.append(summation_of_col(i+1))\n",
    "\n",
    "    print(\"\\n\\n\\n\")\n",
    "    print(\"Here are the summations of colums of the harmonic table, curated for you :\")\n",
    "    print(\"Y       = \",sum_list[1])\n",
    "\n",
    "    print(\"Ycosx   = \",sum_list[2])\n",
    "    for i in range(harmonic-1):\n",
    "        print(\"Ycos\" + str(i+2) + \"x  = \",sum_list[current_colum])\n",
    "        current_colum+=1\n",
    "\n",
    "    print(\"Ysinx   = \",sum_list[current_colum])\n",
    "    current_colum+=1\n",
    "    for i in range(harmonic-1):\n",
    "        print(\"Ysin\" + str(i+2) + \"x  = \",sum_list[current_colum])\n",
    "        current_colum+=1\n",
    "\n",
    "    current_colum=3\n",
    "    coefficient_list=list(map(lambda x:round(x*2/6,2),sum_list))\n",
    "    print(\"\\n\")\n",
    "    print(\"Coefficinets :\")\n",
    "    print(\"a0   = \",coefficient_list[1])\n",
    "\n",
    "    for i in range(harmonic):\n",
    "        print(\"a\" + str(i+1) + \"  = \",coefficient_list[current_colum-1])\n",
    "        current_colum+=1\n",
    "\n",
    "    for i in range(harmonic):\n",
    "        print(\"b\" + str(i+1) + \"  = \",coefficient_list[current_colum-1])\n",
    "        current_colum+=1"
   ]
  },
  {
   "cell_type": "code",
   "execution_count": 24,
   "id": "b292f242-652f-492b-8d52-60e63e1f65cc",
   "metadata": {},
   "outputs": [
    {
     "name": "stdout",
     "output_type": "stream",
     "text": [
      "\n",
      "X =  [0, 30, 60, 90, 120, 150]\n",
      "\n",
      "Enter values of Y seperated by a space : \n"
     ]
    },
    {
     "name": "stdin",
     "output_type": "stream",
     "text": [
      " 1 2 3 4 5 6\n",
      "\n",
      "How many harmonics do you require for your analysis :  3\n"
     ]
    },
    {
     "name": "stdout",
     "output_type": "stream",
     "text": [
      "\n",
      "X\t\tY\t\tYcosx\t\tYcos2x\t\tYcos3x\t\tYsinx\t\tYsin2x\t\tYsin3x\t\t\n",
      "\n",
      "0\t\t1.0\t\t1.0\t\t1.0\t\t1.0\t\t0.0\t\t0.0\t\t0.0\t\t\n",
      "\n",
      "30\t\t2.0\t\t1.73\t\t1.0\t\t0.0\t\t1.0\t\t1.73\t\t2.0\t\t\n",
      "\n",
      "60\t\t3.0\t\t1.5\t\t-1.5\t\t-3.0\t\t2.6\t\t2.6\t\t0.0\t\t\n",
      "\n",
      "90\t\t4.0\t\t0.0\t\t-4.0\t\t-0.0\t\t4.0\t\t0.0\t\t-4.0\t\t\n",
      "\n",
      "120\t\t5.0\t\t-2.5\t\t-2.5\t\t5.0\t\t4.33\t\t-4.33\t\t-0.0\t\t\n",
      "\n",
      "150\t\t6.0\t\t-5.2\t\t3.0\t\t0.0\t\t3.0\t\t-5.2\t\t6.0\t\t\n",
      "\n",
      "\n",
      "\n",
      "Here are the summations of colums of the harmonic table, curated for you :\n",
      "Y       =  21.0\n",
      "Ycosx   =  -3.46\n",
      "Ycos2x  =  -3.0\n",
      "Ycos3x  =  3.0\n",
      "Ysinx   =  14.93\n",
      "Ysin2x  =  -5.2\n",
      "Ysin3x  =  4.0\n",
      "\n",
      "\n",
      "Coefficinets :\n",
      "a0   =  7.0\n",
      "a1  =  -1.15\n",
      "a2  =  -1.0\n",
      "a3  =  1.0\n",
      "b1  =  4.98\n",
      "b2  =  -1.73\n",
      "b3  =  1.33\n"
     ]
    }
   ],
   "source": [
    "if __name__ == main():\n",
    "    main()"
   ]
  },
  {
   "cell_type": "code",
   "execution_count": null,
   "id": "74059731-4adb-49e9-a697-94a5874d0607",
   "metadata": {},
   "outputs": [],
   "source": []
  },
  {
   "cell_type": "code",
   "execution_count": null,
   "id": "51b56e03",
   "metadata": {},
   "outputs": [],
   "source": []
  }
 ],
 "metadata": {
  "kernelspec": {
   "display_name": "classroom",
   "language": "python",
   "name": "classroom"
  },
  "language_info": {
   "codemirror_mode": {
    "name": "ipython",
    "version": 3
   },
   "file_extension": ".py",
   "mimetype": "text/x-python",
   "name": "python",
   "nbconvert_exporter": "python",
   "pygments_lexer": "ipython3",
   "version": "3.11.3"
  }
 },
 "nbformat": 4,
 "nbformat_minor": 5
}
