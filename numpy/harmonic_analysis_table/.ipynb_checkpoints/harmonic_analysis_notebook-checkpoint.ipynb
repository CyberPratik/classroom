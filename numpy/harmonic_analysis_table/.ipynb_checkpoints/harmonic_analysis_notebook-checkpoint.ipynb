{
 "cells": [
  {
   "cell_type": "markdown",
   "id": "852da207-b1a7-4048-b4ca-d3b6b7248e4b",
   "metadata": {},
   "source": [
    "### This notebook is to create a harmonic analysis table for fourier transformations"
   ]
  },
  {
   "cell_type": "code",
   "execution_count": 1,
   "id": "b45315c4-c5d1-4dd5-9102-35c51d38e86c",
   "metadata": {},
   "outputs": [],
   "source": [
    "import math\n",
    "\n",
    "sum_list = []\n",
    "coefficient_list = []\n",
    "my_table = []"
   ]
  },
  {
   "cell_type": "code",
   "execution_count": 2,
   "id": "b5465d83-d65a-476f-a338-63438a6648ea",
   "metadata": {},
   "outputs": [],
   "source": [
    "def main():\n",
    "    x = [0, 30, 60, 90, 120, 150]\n",
    "    print(\"\\nX = \",x)\n",
    "    print(\"\\nEnter values of Y seperated by a space : \")\n",
    "    y = list(map(float, input().split()))\n",
    "    print(\"\\nY = \",y)\n",
    "    \n",
    "    harmonic=int(input(\"\\nHow many harmonics do you require for your analysis: \"))\n",
    "\n",
    "    my_table = genreate_harmonic_analysis_table(x,y,harmonic)\n",
    "    print_table(my_table)\n",
    "    print_summations(my_table)"
   ]
  },
  {
   "cell_type": "code",
   "execution_count": 3,
   "id": "ab06a97b-a6ae-4d46-b487-271e7c9c0f9a",
   "metadata": {},
   "outputs": [],
   "source": [
    "def genreate_harmonic_analysis_table(x,y,harmonic=3):\n",
    "    tbl=[]\n",
    "    cols = 2 + harmonic*2\n",
    "    tbl = np.zeros((len(x),cols))\n",
    "\n",
    "    for r in range(len(x)):\n",
    "        tbl[r][0]=x[r]\n",
    "        tbl[r][1]=y[r]\n",
    "        for c in range(len(tbl[r])):\n",
    "            current_colum=2\n",
    "\n",
    "            for i in range(harmonic):\n",
    "                tbl[r][current_colum] = y[r]*np.cos(r2d((i+1)*x[r]))\n",
    "                current_colum+=1\n",
    "                \n",
    "            for i in range(harmonic):\n",
    "                tbl[r][current_colum] = y[r]*np.sin(r2d((i+1)*x[r]))\n",
    "                current_colum+=1\n",
    "\n",
    "    return tbl"
   ]
  },
  {
   "cell_type": "code",
   "execution_count": 4,
   "id": "d26efd75-5307-40ce-8681-536f91656f28",
   "metadata": {},
   "outputs": [],
   "source": [
    "def r2d(num):\n",
    "    return num*math.pi/180"
   ]
  },
  {
   "cell_type": "code",
   "execution_count": 5,
   "id": "3669714a-b359-404d-8717-c9983da4501e",
   "metadata": {},
   "outputs": [],
   "source": [
    "def print_table(tbl):\n",
    "    print()\n",
    "    harmonic = int((len(tbl[0])-2)/2)\n",
    "    print(\"X\\t\\tY\\t\\t\",end=\"\")\n",
    "\n",
    "    print(\"Ycosx\\t\\t\",end=\"\")\n",
    "    for i in range(harmonic-1):\n",
    "        print(\"Ycos\" + str(i+2) + \"x\\t\\t\",end=\"\")\n",
    "\n",
    "    print(\"Ysinx\\t\\t\",end=\"\")\n",
    "    for i in range(harmonic-1):\n",
    "        print(\"Ysin\" + str(i+2) + \"x\\t\\t\",end=\"\")\n",
    "    \n",
    "    for i in tbl:\n",
    "        print(\"\\n\")\n",
    "        for j in i:\n",
    "            print(round(j,2),end=\"\\t\\t\")"
   ]
  },
  {
   "cell_type": "code",
   "execution_count": 6,
   "id": "7f561edb-2f12-401e-a869-4421fcb6f166",
   "metadata": {},
   "outputs": [],
   "source": [
    "def print_summations(tbl):\n",
    "    harmonic = int((len(tbl[0])-2)/2)\n",
    "    current_colum=3\n",
    "\n",
    "    def summation_of_col(col):\n",
    "        sum=0\n",
    "        for i in range(len(tbl)):\n",
    "            sum = sum + tbl[i][col]\n",
    "        return round(sum,2)\n",
    "\n",
    "    for i in range(harmonic*2+1):\n",
    "        sum_list.append(summation_of_col(i+1))\n",
    "\n",
    "    print(\"\\n\\n\\n\")\n",
    "    print(\"Here are the summations of colums of the harmonic table, curated for you :\")\n",
    "    print(\"Y       = \",sum_list[1])\n",
    "\n",
    "    print(\"Ycosx   = \",sum_list[2])\n",
    "    for i in range(harmonic-1):\n",
    "        print(\"Ycos\" + str(i+2) + \"x  = \",sum_list[current_colum])\n",
    "        current_colum+=1\n",
    "\n",
    "    print(\"Ysinx   = \",sum_list[current_colum])\n",
    "    current_colum+=1\n",
    "    for i in range(harmonic-1):\n",
    "        print(\"Ysin\" + str(i+2) + \"x  = \",sum_list[current_colum])\n",
    "        current_colum+=1\n",
    "\n",
    "    current_colum=3\n",
    "    coefficient_list=list(map(lambda x:round(x*2/6,2),sum_list))\n",
    "    \n",
    "    print(\"\\n\")\n",
    "    print(\"Coefficinets :\")\n",
    "    print(\"a0   = \",coefficient_list[1])\n",
    "\n",
    "    for i in range(harmonic):\n",
    "        print(\"a\" + str(i+1) + \"  = \",coefficient_list[current_colum-1])\n",
    "        current_colum+=1\n",
    "\n",
    "    for i in range(harmonic):\n",
    "        print(\"b\" + str(i+1) + \"  = \",coefficient_list[current_colum-1])\n",
    "        current_colum+=1"
   ]
  },
  {
   "cell_type": "code",
   "execution_count": 7,
   "id": "b292f242-652f-492b-8d52-60e63e1f65cc",
   "metadata": {},
   "outputs": [
    {
     "name": "stdout",
     "output_type": "stream",
     "text": [
      "\n",
      "X =  [0, 30, 60, 90, 120, 150]\n",
      "\n",
      "Enter values of Y seperated by a space : \n"
     ]
    },
    {
     "name": "stdin",
     "output_type": "stream",
     "text": [
      " 1 2 3 4 5 6\n"
     ]
    },
    {
     "name": "stdout",
     "output_type": "stream",
     "text": [
      "\n",
      "Y =  [1.0, 2.0, 3.0, 4.0, 5.0, 6.0]\n"
     ]
    },
    {
     "name": "stdin",
     "output_type": "stream",
     "text": [
      "\n",
      "How many harmonics do you require for your analysis:  3\n"
     ]
    },
    {
     "ename": "TypeError",
     "evalue": "'int' object does not support item assignment",
     "output_type": "error",
     "traceback": [
      "\u001b[1;31m---------------------------------------------------------------------------\u001b[0m",
      "\u001b[1;31mTypeError\u001b[0m                                 Traceback (most recent call last)",
      "Cell \u001b[1;32mIn[7], line 1\u001b[0m\n\u001b[1;32m----> 1\u001b[0m \u001b[38;5;28;01mif\u001b[39;00m \u001b[38;5;18m__name__\u001b[39m \u001b[38;5;241m==\u001b[39m main():\n\u001b[0;32m      2\u001b[0m     main()\n",
      "Cell \u001b[1;32mIn[2], line 10\u001b[0m, in \u001b[0;36mmain\u001b[1;34m()\u001b[0m\n\u001b[0;32m      6\u001b[0m \u001b[38;5;28mprint\u001b[39m(\u001b[38;5;124m\"\u001b[39m\u001b[38;5;130;01m\\n\u001b[39;00m\u001b[38;5;124mY = \u001b[39m\u001b[38;5;124m\"\u001b[39m,y)\n\u001b[0;32m      8\u001b[0m harmonic\u001b[38;5;241m=\u001b[39m\u001b[38;5;28mint\u001b[39m(\u001b[38;5;28minput\u001b[39m(\u001b[38;5;124m\"\u001b[39m\u001b[38;5;130;01m\\n\u001b[39;00m\u001b[38;5;124mHow many harmonics do you require for your analysis: \u001b[39m\u001b[38;5;124m\"\u001b[39m))\n\u001b[1;32m---> 10\u001b[0m my_table \u001b[38;5;241m=\u001b[39m genreate_harmonic_analysis_table(x,y,harmonic)\n\u001b[0;32m     11\u001b[0m print_table(my_table)\n\u001b[0;32m     12\u001b[0m print_summations(my_table)\n",
      "Cell \u001b[1;32mIn[3], line 7\u001b[0m, in \u001b[0;36mgenreate_harmonic_analysis_table\u001b[1;34m(x, y, harmonic)\u001b[0m\n\u001b[0;32m      4\u001b[0m tbl \u001b[38;5;241m=\u001b[39m [\u001b[38;5;28mlen\u001b[39m(x),cols]\n\u001b[0;32m      6\u001b[0m \u001b[38;5;28;01mfor\u001b[39;00m r \u001b[38;5;129;01min\u001b[39;00m \u001b[38;5;28mrange\u001b[39m(\u001b[38;5;28mlen\u001b[39m(x)):\n\u001b[1;32m----> 7\u001b[0m     tbl[r][\u001b[38;5;241m0\u001b[39m]\u001b[38;5;241m=\u001b[39mx[r]\n\u001b[0;32m      8\u001b[0m     tbl[r][\u001b[38;5;241m1\u001b[39m]\u001b[38;5;241m=\u001b[39my[r]\n\u001b[0;32m      9\u001b[0m     \u001b[38;5;28;01mfor\u001b[39;00m c \u001b[38;5;129;01min\u001b[39;00m \u001b[38;5;28mrange\u001b[39m(\u001b[38;5;28mlen\u001b[39m(tbl[r])):\n",
      "\u001b[1;31mTypeError\u001b[0m: 'int' object does not support item assignment"
     ]
    }
   ],
   "source": [
    "if __name__ == main():\n",
    "    main()"
   ]
  },
  {
   "cell_type": "code",
   "execution_count": null,
   "id": "74059731-4adb-49e9-a697-94a5874d0607",
   "metadata": {},
   "outputs": [],
   "source": []
  },
  {
   "cell_type": "code",
   "execution_count": null,
   "id": "51b56e03",
   "metadata": {},
   "outputs": [],
   "source": []
  }
 ],
 "metadata": {
  "kernelspec": {
   "display_name": "classroom",
   "language": "python",
   "name": "classroom"
  },
  "language_info": {
   "codemirror_mode": {
    "name": "ipython",
    "version": 3
   },
   "file_extension": ".py",
   "mimetype": "text/x-python",
   "name": "python",
   "nbconvert_exporter": "python",
   "pygments_lexer": "ipython3",
   "version": "3.11.3"
  }
 },
 "nbformat": 4,
 "nbformat_minor": 5
}
