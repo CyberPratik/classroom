{
 "cells": [
  {
   "cell_type": "markdown",
   "id": "1327e20c-3b4b-4fd6-a28c-bcae69e88104",
   "metadata": {},
   "source": [
    "### min max"
   ]
  },
  {
   "cell_type": "code",
   "execution_count": 8,
   "id": "b254f516-d362-4dd4-9a87-396bfc1f997f",
   "metadata": {},
   "outputs": [
    {
     "name": "stdout",
     "output_type": "stream",
     "text": [
      "A\n",
      "b\n"
     ]
    }
   ],
   "source": [
    "x = ['a','b','A','B']\n",
    "\n",
    "print(min(x))\n",
    "print(max(x))"
   ]
  },
  {
   "cell_type": "code",
   "execution_count": 12,
   "id": "b0d08778-ad32-4db8-a4c7-ba1a3b017e6b",
   "metadata": {},
   "outputs": [
    {
     "name": "stdout",
     "output_type": "stream",
     "text": [
      "88\n",
      "b''\n"
     ]
    }
   ],
   "source": [
    "# memoryview()\n",
    "\n",
    "byte_array = bytearray('XYZ', 'utf-8')\n",
    "\n",
    "mv = memoryview(byte_array)\n",
    "\n",
    "print(mv[0])\n",
    "print(bytes(mv[1:0]))"
   ]
  },
  {
   "cell_type": "code",
   "execution_count": 13,
   "id": "fbfa2a76-cb54-4572-94cc-3c48bcf446cd",
   "metadata": {},
   "outputs": [
    {
     "name": "stdout",
     "output_type": "stream",
     "text": [
      "Help on class zip in module builtins:\n",
      "\n",
      "class zip(object)\n",
      " |  zip(*iterables, strict=False) --> Yield tuples until an input is exhausted.\n",
      " |  \n",
      " |     >>> list(zip('abcdefg', range(3), range(4)))\n",
      " |     [('a', 0, 0), ('b', 1, 1), ('c', 2, 2)]\n",
      " |  \n",
      " |  The zip object yields n-length tuples, where n is the number of iterables\n",
      " |  passed as positional arguments to zip().  The i-th element in every tuple\n",
      " |  comes from the i-th iterable argument to zip().  This continues until the\n",
      " |  shortest argument is exhausted.\n",
      " |  \n",
      " |  If strict is true and one of the arguments is exhausted before the others,\n",
      " |  raise a ValueError.\n",
      " |  \n",
      " |  Methods defined here:\n",
      " |  \n",
      " |  __getattribute__(self, name, /)\n",
      " |      Return getattr(self, name).\n",
      " |  \n",
      " |  __iter__(self, /)\n",
      " |      Implement iter(self).\n",
      " |  \n",
      " |  __next__(self, /)\n",
      " |      Implement next(self).\n",
      " |  \n",
      " |  __reduce__(...)\n",
      " |      Return state information for pickling.\n",
      " |  \n",
      " |  __setstate__(...)\n",
      " |      Set state information for unpickling.\n",
      " |  \n",
      " |  ----------------------------------------------------------------------\n",
      " |  Static methods defined here:\n",
      " |  \n",
      " |  __new__(*args, **kwargs) from builtins.type\n",
      " |      Create and return a new object.  See help(type) for accurate signature.\n",
      "\n"
     ]
    }
   ],
   "source": [
    "help(zip)"
   ]
  },
  {
   "cell_type": "code",
   "execution_count": 14,
   "id": "d9ef000a-a8ef-4035-bece-6ad8c6bbf585",
   "metadata": {},
   "outputs": [
    {
     "name": "stdout",
     "output_type": "stream",
     "text": [
      "<zip object at 0x0000012E178F8540>\n"
     ]
    }
   ],
   "source": [
    "x=[1,2,3,4,5,6,7,8,9]\n",
    "\n",
    "print(zip(x))"
   ]
  },
  {
   "cell_type": "code",
   "execution_count": 17,
   "id": "ae227bdf-5a83-4f94-82c1-10e52a65a62d",
   "metadata": {},
   "outputs": [
    {
     "name": "stdout",
     "output_type": "stream",
     "text": [
      "A\n",
      "65\n"
     ]
    }
   ],
   "source": [
    "print(chr(65))\n",
    "print(ord('A'))"
   ]
  },
  {
   "cell_type": "code",
   "execution_count": 26,
   "id": "842e6ba0-4ff9-4144-8717-b6581ddc4179",
   "metadata": {},
   "outputs": [
    {
     "name": "stdout",
     "output_type": "stream",
     "text": [
      "'My name is khan \\u20b9'\n"
     ]
    }
   ],
   "source": [
    "x = ascii(\"My name is khan ₹\")\n",
    "\n",
    "print(x)"
   ]
  },
  {
   "cell_type": "code",
   "execution_count": 31,
   "id": "7bb95cbe-965c-4292-a5ad-7b54bd1c0121",
   "metadata": {},
   "outputs": [
    {
     "name": "stdout",
     "output_type": "stream",
     "text": [
      "No Python documentation found for 'find'.\n",
      "Use help() to get the interactive help utility.\n",
      "Use help(str) for help on the str class.\n"
     ]
    }
   ],
   "source": [
    "help('find')"
   ]
  },
  {
   "cell_type": "code",
   "execution_count": 30,
   "id": "d1fa9b0e-e6c9-4d18-a11f-8867902fec88",
   "metadata": {},
   "outputs": [
    {
     "name": "stdout",
     "output_type": "stream",
     "text": [
      "7\n"
     ]
    }
   ],
   "source": [
    "txt = \"Hello, welcome to my world.\"\n",
    "\n",
    "x = txt.find(\"h\")\n",
    "\n",
    "print(x)"
   ]
  },
  {
   "cell_type": "code",
   "execution_count": null,
   "id": "30421188-bfab-403d-b042-811d20e6bcb8",
   "metadata": {},
   "outputs": [],
   "source": []
  }
 ],
 "metadata": {
  "kernelspec": {
   "display_name": "classroom",
   "language": "python",
   "name": "classroom"
  },
  "language_info": {
   "codemirror_mode": {
    "name": "ipython",
    "version": 3
   },
   "file_extension": ".py",
   "mimetype": "text/x-python",
   "name": "python",
   "nbconvert_exporter": "python",
   "pygments_lexer": "ipython3",
   "version": "3.11.3"
  }
 },
 "nbformat": 4,
 "nbformat_minor": 5
}
