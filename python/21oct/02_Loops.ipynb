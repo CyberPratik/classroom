{
 "cells": [
  {
   "cell_type": "markdown",
   "metadata": {
    "id": "qw0NPWR6Rv5v"
   },
   "source": [
    "# <center>Loops Practice Questions</center>"
   ]
  },
  {
   "cell_type": "markdown",
   "metadata": {},
   "source": [
    "### <center>Difficulty Level : Easy</center>"
   ]
  },
  {
   "cell_type": "markdown",
   "metadata": {
    "id": "qQYBHGoGaLAs"
   },
   "source": [
    "- Create a program to display the first 10 even numbers in reverse order in a single line using **end** parameter of print function. \n",
    "\n",
    "    **Note :** Use both the loops."
   ]
  },
  {
   "cell_type": "code",
   "execution_count": 9,
   "metadata": {},
   "outputs": [
    {
     "name": "stdout",
     "output_type": "stream",
     "text": [
      "20 18 16 14 12 10 8 6 4 2 "
     ]
    }
   ],
   "source": [
    "for i in range(20,0,-2): print(i, end=' ')"
   ]
  },
  {
   "cell_type": "markdown",
   "metadata": {},
   "source": [
    "- Create a program that displays numbers starting from 20 to 40 with a difference of 5 in a single line using **end** parameter of print function.\n",
    "    \n",
    "    **Note :** Use both the loops."
   ]
  },
  {
   "cell_type": "code",
   "execution_count": 10,
   "metadata": {},
   "outputs": [
    {
     "name": "stdout",
     "output_type": "stream",
     "text": [
      "20 25 30 35 40 "
     ]
    }
   ],
   "source": [
    "for i in range(20,41,5): print(i, end=' ')"
   ]
  },
  {
   "cell_type": "markdown",
   "metadata": {},
   "source": [
    "- Create a program to display the cube of first 5 numbers in single line using **end** parameter of print function.\n",
    "\n",
    "    **Note :** Use both the loops."
   ]
  },
  {
   "cell_type": "code",
   "execution_count": 17,
   "metadata": {},
   "outputs": [
    {
     "name": "stdout",
     "output_type": "stream",
     "text": [
      "1\n",
      "8\n",
      "27\n"
     ]
    }
   ],
   "source": [
    "for i in range(1,4): print(i**3)"
   ]
  },
  {
   "cell_type": "code",
   "execution_count": 18,
   "metadata": {},
   "outputs": [
    {
     "name": "stdout",
     "output_type": "stream",
     "text": [
      "1\n",
      "8\n",
      "27\n"
     ]
    }
   ],
   "source": [
    "num = 1\n",
    "\n",
    "while num<4: \n",
    "    print(num**3) \n",
    "    num+=1"
   ]
  },
  {
   "cell_type": "markdown",
   "metadata": {},
   "source": [
    "- Create a program to display the factorial of a number.\n",
    "\n",
    "    **Note :** Use both the loops with positive and negative step values. "
   ]
  },
  {
   "cell_type": "code",
   "execution_count": 27,
   "metadata": {},
   "outputs": [
    {
     "data": {
      "text/plain": [
       "120"
      ]
     },
     "execution_count": 27,
     "metadata": {},
     "output_type": "execute_result"
    }
   ],
   "source": [
    "num=int(input(\"Enter the number: \"))\n",
    "factorial = 1\n",
    "\n",
    "while num>1:\n",
    "    factorial*=num\n",
    "    num=num-1\n",
    "\n",
    "factorial"
   ]
  },
  {
   "cell_type": "code",
   "execution_count": 31,
   "metadata": {},
   "outputs": [
    {
     "data": {
      "text/plain": [
       "120"
      ]
     },
     "execution_count": 31,
     "metadata": {},
     "output_type": "execute_result"
    }
   ],
   "source": [
    "num=int(input(\"Enter the number: \"))\n",
    "factorial = 1\n",
    "\n",
    "for i in range(1,num+1):\n",
    "    factorial*=i\n",
    "\n",
    "factorial"
   ]
  },
  {
   "cell_type": "markdown",
   "metadata": {},
   "source": [
    "### <center>Difficulty Level : Medium</center>"
   ]
  },
  {
   "cell_type": "markdown",
   "metadata": {
    "id": "9Nhbu3c5WA-2"
   },
   "source": [
    "- Create a program that keeps on accepting input from user until 0 is entered and print the sum of all the numbers entered at the end."
   ]
  },
  {
   "cell_type": "code",
   "execution_count": 28,
   "metadata": {},
   "outputs": [
    {
     "name": "stdout",
     "output_type": "stream",
     "text": [
      "Sum of all numbers you gave:  15\n"
     ]
    }
   ],
   "source": [
    "nums = []\n",
    "while True:\n",
    "  num = int(input(\"Input number: \"))\n",
    "\n",
    "  if num==0:\n",
    "    break\n",
    "  else:\n",
    "    nums.append(num)\n",
    "\n",
    "print(\"Sum of all numbers you gave: \", sum(nums))"
   ]
  },
  {
   "cell_type": "markdown",
   "metadata": {},
   "source": [
    "-  Create a program to print the following series for `n` terms where `n` is the number taken from the user.\n",
    "\n",
    "   **Series :** 2,22,222,2222,...... n terms"
   ]
  },
  {
   "cell_type": "code",
   "execution_count": 45,
   "metadata": {},
   "outputs": [
    {
     "ename": "ValueError",
     "evalue": "invalid literal for int() with base 10: ''",
     "output_type": "error",
     "traceback": [
      "\u001b[1;31m---------------------------------------------------------------------------\u001b[0m",
      "\u001b[1;31mValueError\u001b[0m                                Traceback (most recent call last)",
      "\u001b[1;32mc:\\Users\\pradi\\OneDrive\\Desktop\\classroom\\python\\21oct\\02_Loops.ipynb Cell 17\u001b[0m line \u001b[0;36m1\n\u001b[1;32m----> <a href='vscode-notebook-cell:/c%3A/Users/pradi/OneDrive/Desktop/classroom/python/21oct/02_Loops.ipynb#X24sZmlsZQ%3D%3D?line=0'>1</a>\u001b[0m count \u001b[39m=\u001b[39m \u001b[39mint\u001b[39;49m(\u001b[39minput\u001b[39;49m(\u001b[39m\"\u001b[39;49m\u001b[39mSeries iteration: \u001b[39;49m\u001b[39m\"\u001b[39;49m))\n\u001b[0;32m      <a href='vscode-notebook-cell:/c%3A/Users/pradi/OneDrive/Desktop/classroom/python/21oct/02_Loops.ipynb#X24sZmlsZQ%3D%3D?line=2'>3</a>\u001b[0m \u001b[39mfor\u001b[39;00m i \u001b[39min\u001b[39;00m \u001b[39mrange\u001b[39m(num\u001b[39m-\u001b[39m\u001b[39m1\u001b[39m):\n\u001b[0;32m      <a href='vscode-notebook-cell:/c%3A/Users/pradi/OneDrive/Desktop/classroom/python/21oct/02_Loops.ipynb#X24sZmlsZQ%3D%3D?line=3'>4</a>\u001b[0m     \u001b[39mfor\u001b[39;00m j \u001b[39min\u001b[39;00m \u001b[39mrange\u001b[39m(i):\n",
      "\u001b[1;31mValueError\u001b[0m: invalid literal for int() with base 10: ''"
     ]
    }
   ],
   "source": [
    "count = int(input(\"Series iteration: \"))\n",
    "\n",
    "for i in range(num-1):\n",
    "    for j in range(i):\n",
    "        print(\"2\", end=\"\")\n",
    "    print()"
   ]
  },
  {
   "cell_type": "markdown",
   "metadata": {},
   "source": [
    "### <center>Difficulty Level : Hard</center>"
   ]
  },
  {
   "cell_type": "markdown",
   "metadata": {},
   "source": [
    "- Create a program that displays the first number divisible by 5 between 6 to 16 and then break the loop.\n",
    "\n",
    "    **Note :** Use both the loops."
   ]
  },
  {
   "cell_type": "code",
   "execution_count": 36,
   "metadata": {},
   "outputs": [
    {
     "name": "stdout",
     "output_type": "stream",
     "text": [
      "10\n"
     ]
    }
   ],
   "source": [
    "for i in range(6,16):\n",
    "    if i%5==0:\n",
    "        print(i)\n",
    "        break"
   ]
  },
  {
   "cell_type": "markdown",
   "metadata": {
    "id": "2tlSas4cWGXe"
   },
   "source": [
    "- Create a program that replicates the following output :\n",
    "\n",
    "    **Note :** Use both the loops.\n",
    "\n",
    "    The Multiplication Table of 2 \n",
    "\n",
    "\n",
    "    2 x 1 = 2\n",
    "\n",
    "    .\n",
    "\n",
    "    .\n",
    "\n",
    "    .\n",
    "\n",
    "    The Multiplication Table of 3\n",
    "\n",
    "\n",
    "    3 x 1 = 3\n",
    "\n",
    "    .\n",
    "\n",
    "    .\n",
    "\n",
    "    .\n",
    "\n",
    "    The Multiplication Table of 4\n",
    "\n",
    "\n",
    "    4 x 1 = 4\n",
    "\n",
    "    .\n",
    "\n",
    "    .\n",
    "\n",
    "    .\t"
   ]
  },
  {
   "cell_type": "code",
   "execution_count": 51,
   "metadata": {},
   "outputs": [
    {
     "name": "stdout",
     "output_type": "stream",
     "text": [
      "4 X 1 = 4\n",
      "4 X 2 = 8\n",
      "4 X 3 = 12\n",
      "4 X 4 = 16\n",
      "4 X 5 = 20\n",
      "4 X 6 = 24\n",
      "4 X 7 = 28\n",
      "4 X 8 = 32\n",
      "4 X 9 = 36\n",
      "4 X 10 = 40\n"
     ]
    }
   ],
   "source": [
    "count = 4\n",
    "\n",
    "for i in range(1,11): \n",
    "    print(count, \"X\", i, \"=\", count*i)"
   ]
  },
  {
   "cell_type": "markdown",
   "metadata": {},
   "source": [
    "# <center>Happy Learning!</center>"
   ]
  }
 ],
 "metadata": {
  "colab": {
   "name": "scratchpad",
   "provenance": []
  },
  "kernelspec": {
   "display_name": "Python 3",
   "language": "python",
   "name": "python3"
  },
  "language_info": {
   "codemirror_mode": {
    "name": "ipython",
    "version": 3
   },
   "file_extension": ".py",
   "mimetype": "text/x-python",
   "name": "python",
   "nbconvert_exporter": "python",
   "pygments_lexer": "ipython3",
   "version": "3.11.4"
  }
 },
 "nbformat": 4,
 "nbformat_minor": 1
}
