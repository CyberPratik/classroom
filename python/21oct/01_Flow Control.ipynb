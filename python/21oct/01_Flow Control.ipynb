{
 "cells": [
  {
   "cell_type": "markdown",
   "metadata": {
    "id": "qw0NPWR6Rv5v"
   },
   "source": [
    "# <center>Flow Control Practice Questions</center>"
   ]
  },
  {
   "cell_type": "markdown",
   "metadata": {},
   "source": [
    "### <center>Difficulty Level : Easy</center>"
   ]
  },
  {
   "cell_type": "markdown",
   "metadata": {
    "id": "SHIka-WmSoD1"
   },
   "source": [
    "- Fill in the blanks with the boolean operators in the following code snippet to get the desired output :\n",
    "\n",
    "| Code Snippet  | Output |\n",
    "|---------------|---------------------|\n",
    "| True and True | True | \n",
    "| ( 1 > 2 ) and ( 55 < 54) | False |\n",
    "| ( 55 / 2 ) or True | True |\n",
    "| __ ( 10 > 5 ) | False |"
   ]
  },
  {
   "cell_type": "markdown",
   "metadata": {},
   "source": [
    "- Create a program that asks the user to enter the net worth of Mark Zuckerberg and display the specific message as mentioned in the table below according to the input from the user.  \n",
    "\n",
    "    **Note :** Make sure you enter the appropriate message in input function that assists user in entering the values.\n",
    "    \n",
    "    **Note :** Do not enter commas when entering the number.\n",
    "    \n",
    "| Net Worth  | Display |\n",
    "|---------------|---------------------|\n",
    "| = 54500000000 | That's 54.5 billion!| \n",
    "| < 54500000000 | That's not much!|\n",
    "| > 54500000000 | I'll make more when I graduate|"
   ]
  },
  {
   "cell_type": "code",
   "execution_count": 1,
   "metadata": {},
   "outputs": [
    {
     "name": "stdout",
     "output_type": "stream",
     "text": [
      "That's 54.5 billion\n",
      "Thats not much!\n",
      "I'll male more when i graduate\n"
     ]
    }
   ],
   "source": [
    "def program(worth):\n",
    "    if worth==54500000000:\n",
    "        print(\"That's 54.5 billion\")\n",
    "    elif worth>54500000000:\n",
    "        print(\"I'll male more when i graduate\")\n",
    "    else:\n",
    "        print(\"Thats not much!\")\n",
    "\n",
    "program(54500000000)\n",
    "program(12000)\n",
    "program(12000000000000000)"
   ]
  },
  {
   "cell_type": "markdown",
   "metadata": {},
   "source": [
    "- Create a program to accept the cost price of a bike and display the total price of the bike including the tax to be paid according to the following criteria : \n",
    "\n",
    "    **Note :** Make sure you enter the appropriate message in input function that assists user in entering the values.\n",
    "\n",
    "| Cost price (in Rs)  | Tax |\n",
    "|---------------------|-----|\n",
    "| > 100000            | 15 %| \n",
    "|> 50000 and <= 100000| 10% |\n",
    "|<= 50000             | 5%  |"
   ]
  },
  {
   "cell_type": "code",
   "execution_count": 2,
   "metadata": {},
   "outputs": [
    {
     "name": "stdout",
     "output_type": "stream",
     "text": [
      "Total cost of bike of 120000:  138000.0\n",
      "Total cost of bike of 30000:  31500.0\n",
      "Total cost of bike of 75000:  82500.0\n"
     ]
    }
   ],
   "source": [
    "def calculateBikePrise(cost):\n",
    "    if cost>100000:\n",
    "        return cost*1.15\n",
    "    elif cost>50000 and cost<= 100000:\n",
    "        return cost*1.1\n",
    "    else:\n",
    "        return cost*1.05\n",
    "    \n",
    "\n",
    "print(\"Total cost of bike of 120000: \", calculateBikePrise(120000))\n",
    "print(\"Total cost of bike of 30000: \", calculateBikePrise(30000))\n",
    "print(\"Total cost of bike of 75000: \", calculateBikePrise(75000))"
   ]
  },
  {
   "cell_type": "markdown",
   "metadata": {},
   "source": [
    "- A student needs to have an attendance of atleast 75% to be allowed to sit for the exams. Create a program to check if the student satisfies this attendance criteria to sit for the exams by taking 2 inputs from the user and display the necessary output message along with the attendance in percentage using the print function.\n",
    "\n",
    "    **Note :** Make sure you enter the appropriate message in input function that assists user in entering the values.\n",
    "\n",
    "    **Hint :** Take the user inputs for the following :\n",
    "    - Number of classes held\n",
    "    - Number of classes attended."
   ]
  },
  {
   "cell_type": "code",
   "execution_count": 3,
   "metadata": {},
   "outputs": [
    {
     "name": "stdout",
     "output_type": "stream",
     "text": [
      "You are not eligiable to sit for exam\n"
     ]
    }
   ],
   "source": [
    "def examEligibility(total, attended):\n",
    "    if attended/total >= 75:\n",
    "        return True\n",
    "    else:\n",
    "        return False\n",
    "    \n",
    "total_lectures = int(input(\"How many lectures were conducted: \"))\n",
    "attended_lectures = int(input(\"How many lectures did you attend: \"))\n",
    "\n",
    "if examEligibility(total_lectures, attended_lectures):\n",
    "    print(\"You are eligiable to sit for exam\")\n",
    "else:\n",
    "    print(\"You are not eligiable to sit for exam\")"
   ]
  },
  {
   "cell_type": "markdown",
   "metadata": {},
   "source": [
    "### <center>Difficulty Level : Medium</center>"
   ]
  },
  {
   "cell_type": "markdown",
   "metadata": {},
   "source": [
    "- Create a program that displays the wages of worker depending on their age, gender (‘M’, ‘F’) and number of days they work accodring to the criteria mentioned in the table below:\n",
    "\n",
    "    **Note :** Make sure you enter the appropriate message in input function that assists user in entering the values.\n",
    "    \n",
    "\n",
    "| Age Group           | Gender | Daily Wages |\n",
    "|---------------------|--------|-------------|\n",
    "| >= 18 and < 30      | M      | 700         |\n",
    "|                     | F      | 750         |\n",
    "| >= 30 and <= 40     | M      | 800         |\n",
    "|                     | F      | 850         |                "
   ]
  },
  {
   "cell_type": "markdown",
   "metadata": {},
   "source": [
    "- Create a program to check if a given year is leap year or not.\n",
    "    \n",
    "    **Note :** Make sure you enter the appropriate message in input function that assists user in entering the values.\n",
    "\n",
    "    **Note :** Google to check all the conditions for a year to be a leap year."
   ]
  },
  {
   "cell_type": "code",
   "execution_count": 2,
   "metadata": {},
   "outputs": [
    {
     "name": "stdout",
     "output_type": "stream",
     "text": [
      "This is not a leap year\n"
     ]
    }
   ],
   "source": [
    "def checkLeapYear(year):\n",
    "    if year%4==0:\n",
    "        return True\n",
    "    return False\n",
    "\n",
    "if checkLeapYear(2005):\n",
    "    print(\"This is a leap year\")\n",
    "else:\n",
    "    print(\"This is not a leap year\")"
   ]
  },
  {
   "cell_type": "markdown",
   "metadata": {},
   "source": [
    "### <center>Difficulty Level : Hard</center>"
   ]
  },
  {
   "cell_type": "markdown",
   "metadata": {},
   "source": [
    "- Create a program that accepts the number of days from the user and calculates the charge for library according to the following table :\n",
    "    \n",
    "    **Note :** Make sure you enter the appropriate message in input function that assists user in entering the values.\n",
    "\n",
    "| Number of Days  | Cost / day |\n",
    "|-----------------|----------|\n",
    "| Till 5 days | Rs 2 / day | \n",
    "| 6 to 10 days| Rs 3 / day |\n",
    "|11 to 15 days| Rs 4 / day |\n",
    "|After 15 days| Rs 5 / day |"
   ]
  },
  {
   "cell_type": "code",
   "execution_count": null,
   "metadata": {},
   "outputs": [],
   "source": [
    "def calculateCharge(days):\n",
    "    if days<=5:\n",
    "        return days*2\n",
    "    elif days<=10 and days>5:\n",
    "        return days*3\n",
    "    elif days<=15 and days>10:\n",
    "        return days*3\n",
    "    elif days>15:\n",
    "        return days*5\n",
    "    else:\n",
    "        return -1\n",
    "    \n",
    "\n",
    "print(\"Enter number of days you'll need the \")"
   ]
  },
  {
   "cell_type": "markdown",
   "metadata": {},
   "source": [
    "- Create a program that accepts the electric units from user and calculates the bill according to the following rates:\n",
    "\n",
    "   **Note :** Make sure you enter the appropriate message in input function that assists user in entering the values.\n",
    "   \n",
    "   **Example :** \n",
    "   \n",
    "   Number of Unit :550 \n",
    "   \n",
    "   Total Bill : 0 +400+1250 = 1650\n",
    "\n",
    "| Range of Units  | Cost / unit |\n",
    "|-----------------|----------|\n",
    "| First 100 | Free | \n",
    "| Next 200 | Rs 2 / unit |\n",
    "| Above 300 | Rs 5 / unit|"
   ]
  },
  {
   "cell_type": "markdown",
   "metadata": {},
   "source": [
    "# <center>Happy Learning!</center>"
   ]
  }
 ],
 "metadata": {
  "colab": {
   "name": "scratchpad",
   "provenance": []
  },
  "kernelspec": {
   "display_name": "Python 3",
   "language": "python",
   "name": "python3"
  },
  "language_info": {
   "codemirror_mode": {
    "name": "ipython",
    "version": 3
   },
   "file_extension": ".py",
   "mimetype": "text/x-python",
   "name": "python",
   "nbconvert_exporter": "python",
   "pygments_lexer": "ipython3",
   "version": "3.11.4"
  }
 },
 "nbformat": 4,
 "nbformat_minor": 1
}
