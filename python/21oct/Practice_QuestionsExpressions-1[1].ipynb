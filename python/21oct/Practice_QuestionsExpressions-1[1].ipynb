{
  "cells": [
    {
      "cell_type": "markdown",
      "metadata": {
        "id": "hBUsfvi5Dzfr"
      },
      "source": [
        "#Easy:"
      ]
    },
    {
      "cell_type": "markdown",
      "metadata": {
        "id": "R1ZG8pIben4d"
      },
      "source": [
        "**Q.1) Write a Python expression to calculate the sum of two numbers, take inputs from user a and b.**\n",
        "\n",
        "# Hints:\n",
        "1)Take inputs from user as a and b.\n",
        "\n",
        "2)Use arithmatic operator for sum.\n",
        "\n",
        "3)Print the result."
      ]
    },
    {
      "cell_type": "code",
      "execution_count": 4,
      "metadata": {
        "id": "P4o1B1iIdxX9"
      },
      "outputs": [
        {
          "name": "stdout",
          "output_type": "stream",
          "text": [
            "10\n"
          ]
        }
      ],
      "source": [
        "a = int(input(\"Value of A: \"))\n",
        "b = int(input(\"Value of B: \"))\n",
        "\n",
        "print(a+b)"
      ]
    },
    {
      "cell_type": "markdown",
      "metadata": {
        "id": "mwzwz2Agf1bZ"
      },
      "source": [
        "**Q.2) Write a Python expression to calculate the average of three numbers a, b, and c.**\n",
        "\n",
        "# Hints:\n",
        "\n",
        "1)Take inputs from user as a , b and c.\n",
        "\n",
        "2)To take average of numbers add those numbers and then divide it from total count of numbers.\n",
        "\n",
        "3)Print the result."
      ]
    },
    {
      "cell_type": "code",
      "execution_count": null,
      "metadata": {
        "id": "UQteqK1ujVK0"
      },
      "outputs": [],
      "source": []
    },
    {
      "cell_type": "markdown",
      "metadata": {
        "id": "UQ2bqtgghMUW"
      },
      "source": [
        "**Q.3) Write a Python expression to check if a number x is divisible by 5.**\n",
        "\n",
        "# Hints:\n",
        "\n",
        "1)Take inputs from user as x.\n",
        "\n",
        "2)To check given input number is divisible by 5 use modulus operator and reminder should be 0 , so that number is called divisible by 5.\n",
        "\n",
        "3)Print the result if result is True then the number is divisible by 5."
      ]
    },
    {
      "cell_type": "code",
      "execution_count": null,
      "metadata": {
        "id": "PyTIO3H1jVuH"
      },
      "outputs": [],
      "source": [
        "## your code"
      ]
    },
    {
      "cell_type": "markdown",
      "metadata": {
        "id": "JbshrOE2jc2Z"
      },
      "source": [
        "**Q.4) Write a Python expression to calculate the area of a rectangle with length l and width w.**\n",
        "\n",
        "# Hints:\n",
        "\n",
        "1)Take inputs from user as l and w and give appropriate message in it.\n",
        "\n",
        "2)To calculate area of rectangle multiply both inputs using arithmatic operator.\n",
        "\n",
        "3)Print the result."
      ]
    },
    {
      "cell_type": "code",
      "execution_count": null,
      "metadata": {
        "id": "ykpu32fFhFIX"
      },
      "outputs": [],
      "source": [
        "## your code"
      ]
    },
    {
      "cell_type": "markdown",
      "metadata": {
        "id": "wQ5Ymjuckj6B"
      },
      "source": [
        "**Q.5) Write a Python expression to convert temperature from Fahrenheit to Celsius. Given a Fahrenheit temperature f, the formula is: (f - 32) * 5/9.**\n",
        "\n",
        "# Hints:\n",
        "\n",
        "1)Take input from user as f (for Fahrenheit).\n",
        "\n",
        "2)To convert it use the given formula.\n",
        "\n",
        "3)Print the result."
      ]
    },
    {
      "cell_type": "code",
      "execution_count": null,
      "metadata": {
        "id": "OV24bKS4ki9R"
      },
      "outputs": [],
      "source": [
        "## your code"
      ]
    },
    {
      "cell_type": "markdown",
      "metadata": {
        "id": "y4acyCkjEq_w"
      },
      "source": [
        "#Medium:"
      ]
    },
    {
      "cell_type": "markdown",
      "metadata": {
        "id": "anovU9vrmUE2"
      },
      "source": [
        "**Q.6) Write a Python expression to concatenate two strings, s1 and s2.**\n",
        "\n",
        "#Hints:\n",
        "\n",
        "1)Take two inputs as s1 and s2.\n",
        "\n",
        "2)To concat two strings use use arithmatic operator.\n",
        "\n",
        "3)Print result."
      ]
    },
    {
      "cell_type": "code",
      "execution_count": null,
      "metadata": {
        "id": "KawLg7F6r4ZE"
      },
      "outputs": [],
      "source": [
        "## your code"
      ]
    },
    {
      "cell_type": "markdown",
      "metadata": {
        "id": "A6ab4Arjn8fP"
      },
      "source": [
        "**Q.7)  Ohm's Law Calculator.\n",
        "Create a Python function that calculates the resistance, current, or voltage in an electrical circuit using Ohm's Law. Given any two of the three parameters (V, I, and R), calculate the third parameter using the formula V = IR.**\n",
        "\n",
        "#Hints:\n",
        "\n",
        "1)Take input as I and R for current & resistance .\n",
        "\n",
        "2)To calculate voltage (V) multiply both inputs.\n",
        "\n",
        "3)Now find out Current(I) and Resistance(R) according to user's inputs(**Remember formula is V = IR**) change the formula according to what you want to find out.\n",
        "\n",
        "4)Print result."
      ]
    },
    {
      "cell_type": "code",
      "execution_count": null,
      "metadata": {
        "id": "zXLbf0I1r720"
      },
      "outputs": [],
      "source": []
    },
    {
      "cell_type": "markdown",
      "metadata": {
        "id": "YZ9gTGmuosIR"
      },
      "source": [
        "**Q.8) Write a Python expression to calculate the square root of a number x.**\n",
        "\n",
        "#Hints:\n",
        "\n",
        "1)Take input as x.\n",
        "\n",
        "2)To find square root of x use exponention operator .\n",
        "\n",
        "3)Print result."
      ]
    },
    {
      "cell_type": "code",
      "execution_count": null,
      "metadata": {
        "id": "xp5ImhmRr88A"
      },
      "outputs": [],
      "source": [
        "## your code"
      ]
    },
    {
      "cell_type": "markdown",
      "metadata": {
        "id": "AhBWljcApMAG"
      },
      "source": [
        "**Q.9) Write a Python expression to replicate a given string .**\n",
        "\n",
        "#Hints:\n",
        "\n",
        "1)Take two inputs as string1 and number.\n",
        "\n",
        "2)To replicate given string1 use appropriate arithmatic operator.\n",
        "\n",
        "3)Print result."
      ]
    },
    {
      "cell_type": "code",
      "execution_count": null,
      "metadata": {
        "id": "BlE-QemPr937"
      },
      "outputs": [],
      "source": [
        "## your code"
      ]
    },
    {
      "cell_type": "markdown",
      "metadata": {
        "id": "58ehxt6XEyhe"
      },
      "source": [
        "#Hard:"
      ]
    },
    {
      "cell_type": "markdown",
      "metadata": {
        "id": "Xv5birSUqNjf"
      },
      "source": [
        "**Q.10) Write a Python expression to calculate area of circle (π · r2) .**\n",
        "\n",
        "#Hints:\n",
        "\n",
        "1)Take input as r (for radius).\n",
        "\n",
        "2)To calculate area of circle give value to **π** as **3.14**.\n",
        "\n",
        "3)Print result."
      ]
    },
    {
      "cell_type": "code",
      "execution_count": null,
      "metadata": {
        "id": "mv1jGEy-k0jo"
      },
      "outputs": [],
      "source": [
        "## your code"
      ]
    },
    {
      "cell_type": "markdown",
      "metadata": {
        "id": "EXv6hX6k3RfY"
      },
      "source": [
        "**Q.11) Write a Python expression to calculate the area of a square with side s.**\n",
        "\n",
        "#Hints:\n",
        "\n",
        "1)Take input from user as s and give appropriate message in it .\n",
        "\n",
        "2)To calculate area of square multiply side for 4 times .\n",
        "\n",
        "3)Print result ."
      ]
    },
    {
      "cell_type": "code",
      "execution_count": null,
      "metadata": {
        "id": "yhDqIXOD4Yjk"
      },
      "outputs": [],
      "source": [
        "## your code"
      ]
    },
    {
      "cell_type": "markdown",
      "metadata": {
        "id": "2mHSyFLT4qs6"
      },
      "source": [
        "**Q.12) Write a Python expression to calculate the circumference of a circle with radius r. (formula c = 2 π r)**\n",
        "\n",
        "#Hints:\n",
        "\n",
        "1)Take input as r (for radius).\n",
        "\n",
        "2)To calculate circumference of circle give value to **π** as 3.14.\n",
        "\n",
        "3)Print result."
      ]
    },
    {
      "cell_type": "code",
      "execution_count": null,
      "metadata": {
        "id": "HcHiaveq4bil"
      },
      "outputs": [],
      "source": [
        "## your code"
      ]
    },
    {
      "cell_type": "markdown",
      "metadata": {
        "id": "bOopDYru5oQL"
      },
      "source": [
        "**Q.13) Write a Python expression to calculate the volume of a cube with side length s. (formula volume_of_cube = s^3)**\n",
        "\n",
        "#Hints:\n",
        "\n",
        "1)Take input as s (for side lenght).\n",
        "\n",
        "2)To calculate volume of cube use the formula and input value.\n",
        "\n",
        "3)Print result."
      ]
    },
    {
      "cell_type": "code",
      "execution_count": null,
      "metadata": {
        "id": "1j9BuZqe5m2A"
      },
      "outputs": [],
      "source": [
        "## your code"
      ]
    },
    {
      "cell_type": "markdown",
      "metadata": {
        "id": "bf3pwq1tDBUg"
      },
      "source": [
        "**Q.14) Area of a Triangle\n",
        "Create a Python function that calculates the area of a triangle given the lengths of its three sides. Use Heron's formula: A = √(s(s-a)(s-b)(s-c)),**\n",
        "\n",
        "**where A is the area, s is the semi-perimeter, and a, b, and c are the lengths of the sides.**\n",
        "\n",
        "#Hints:\n",
        "\n",
        "1)Take inputs as a , b , c for three sides of triangle.\n",
        "\n",
        "2)To calculate Area of a Triangle use the given formmula , find out s where s is semi-perimeter add all sides of triangle and divide it by 2, will get s.\n",
        "\n",
        "3)Print result."
      ]
    },
    {
      "cell_type": "markdown",
      "metadata": {
        "id": "9z8xfTAxEgyx"
      },
      "source": [
        "**Q.15) Write a Python function that calculates the volume of a cylinder given its radius and height. Use the formula V = πr^2h, where V is the volume, r is the radius, and h is the height.**\n",
        "\n",
        "#Hints:\n",
        "\n",
        "1)Take inputs as r , h for radius and height.\n",
        "\n",
        "2)To calculate volume of a cylinder use given formula.\n",
        "\n",
        "3)Print result."
      ]
    },
    {
      "cell_type": "markdown",
      "metadata": {
        "id": "T0pdMFZ9GR58"
      },
      "source": [
        "**Q.16) Implement a Python function that calculates the force exerted by a spring using Hooke's Law. Given the spring constant and the displacement from the equilibrium position, determine the force using the (formula F = -k * x), where F is the force, k is the spring constant, and x is the displacement.**\n",
        "\n",
        "#Hints:\n",
        "\n",
        "1)Take two inputs from user as k and x.\n",
        "\n",
        "2)To calculate the force exerted by a spring use given formula.\n",
        "\n",
        "3)Print result."
      ]
    },
    {
      "cell_type": "markdown",
      "metadata": {
        "id": "TOTnI5GkKf-e"
      },
      "source": [
        "**Q.17) Kinematic Equation Solver.\n",
        "Create a Python program that solves the (kinematic_equation v = u + at) for a given set of initial velocity (u), acceleration (a), and time (t) and calculates the final velocity (v).**\n",
        "\n",
        "#Hints:\n",
        "\n",
        "1)Take two inputs from user as u , a and t.\n",
        "\n",
        "2)To calculate the velocity use given formula.\n",
        "\n",
        "3)Print result."
      ]
    },
    {
      "cell_type": "code",
      "execution_count": null,
      "metadata": {
        "id": "8RfFjo_FDMJ0"
      },
      "outputs": [],
      "source": []
    }
  ],
  "metadata": {
    "colab": {
      "provenance": []
    },
    "kernelspec": {
      "display_name": "Python 3",
      "name": "python3"
    },
    "language_info": {
      "codemirror_mode": {
        "name": "ipython",
        "version": 3
      },
      "file_extension": ".py",
      "mimetype": "text/x-python",
      "name": "python",
      "nbconvert_exporter": "python",
      "pygments_lexer": "ipython3",
      "version": "3.11.4"
    }
  },
  "nbformat": 4,
  "nbformat_minor": 0
}
