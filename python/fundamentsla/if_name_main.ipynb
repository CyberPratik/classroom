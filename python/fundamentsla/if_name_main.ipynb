{
 "cells": [
  {
   "cell_type": "markdown",
   "id": "ad20c815-737f-482e-8dfc-c156865e349c",
   "metadata": {},
   "source": [
    "# Welcome to the fundamental section of basic python code structure"
   ]
  },
  {
   "cell_type": "markdown",
   "id": "8ede647d-f1aa-44fc-912f-86be2e1d3309",
   "metadata": {},
   "source": [
    "## if __name__ == \"__main__\""
   ]
  },
  {
   "cell_type": "code",
   "execution_count": 1,
   "id": "fca4dd67-ffae-421d-9220-8c1deb1e354e",
   "metadata": {},
   "outputs": [
    {
     "name": "stdin",
     "output_type": "stream",
     "text": [
      "Yell something at a mountain:  echo\n"
     ]
    },
    {
     "name": "stdout",
     "output_type": "stream",
     "text": [
      "cho\n",
      "ho\n",
      "o\n",
      ".\n"
     ]
    }
   ],
   "source": [
    "def echo(text: str, repetitions: int = 3) -> str:\n",
    "    \"\"\"Imitate a real-world echo.\"\"\"\n",
    "    echoed_text = \"\"\n",
    "    for i in range(repetitions, 0, -1):\n",
    "        echoed_text += f\"{text[-i:]}\\n\"\n",
    "    return f\"{echoed_text.lower()}.\"\n",
    "\n",
    "if __name__ == \"__main__\":\n",
    "    text = input(\"Yell something at a mountain: \")\n",
    "    print(echo(text))"
   ]
  },
  {
   "cell_type": "markdown",
   "id": "cad4b2ba-aef7-429b-ac7f-e87d6f0dd9e6",
   "metadata": {},
   "source": [
    "* In this example, you define a function, echo(), that mimics a real-world echo by gradually printing fewer and fewer of the final letters of the input text.\n",
    "\n",
    "* Below that, in lines 10 to 12, you use the if __name__ == \"__main__\" idiom. This code starts with the conditional statement if __name__ == \"__main__\" in line 10. In the indented lines, 11 and 12, you then collect user input and call echo() with that input. These two lines will execute when you run echo.py as a script from your command line:"
   ]
  },
  {
   "cell_type": "code",
   "execution_count": null,
   "id": "b736a17f-3e39-433e-8876-f875f2f86290",
   "metadata": {},
   "outputs": [],
   "source": []
  }
 ],
 "metadata": {
  "kernelspec": {
   "display_name": "classroom",
   "language": "python",
   "name": "classroom"
  },
  "language_info": {
   "codemirror_mode": {
    "name": "ipython",
    "version": 3
   },
   "file_extension": ".py",
   "mimetype": "text/x-python",
   "name": "python",
   "nbconvert_exporter": "python",
   "pygments_lexer": "ipython3",
   "version": "3.11.3"
  }
 },
 "nbformat": 4,
 "nbformat_minor": 5
}
