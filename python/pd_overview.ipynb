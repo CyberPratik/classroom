{
 "cells": [
  {
   "cell_type": "raw",
   "id": "46f59f9f",
   "metadata": {
    "_cell_guid": "177a03a0-1414-4b8e-b11a-8f0fe3b9841c",
    "_uuid": "3744004c-de1a-4f0a-970e-b06c8cb2ada5",
    "papermill": {
     "duration": 0.004733,
     "end_time": "2023-06-15T18:09:44.974985",
     "exception": false,
     "start_time": "2023-06-15T18:09:44.970252",
     "status": "completed"
    },
    "tags": []
   },
   "source": [
    "# This Python 3 environment comes with many helpful analytics libraries installed\n",
    "# It is defined by the kaggle/python Docker image: https://github.com/kaggle/docker-python\n",
    "# For example, here's several helpful packages to load\n",
    "\n",
    "import numpy as np # linear algebra\n",
    "import pandas as pd # data processing, CSV file I/O (e.g. pd.read_csv)\n",
    "\n",
    "# Input data files are available in the read-only \"../input/\" directory\n",
    "# For example, running this (by clicking run or pressing Shift+Enter) will list all files under the input directory\n",
    "\n",
    "import os\n",
    "for dirname, _, filenames in os.walk('/kaggle/input'):\n",
    "    for filename in filenames:\n",
    "        print(os.path.join(dirname, filename))\n",
    "\n",
    "# You can write up to 20GB to the current directory (/kaggle/working/) that gets preserved as output when you create a version using \"Save & Run All\" \n",
    "# You can also write temporary files to /kaggle/temp/, but they won't be saved outside of the current session"
   ]
  },
  {
   "cell_type": "markdown",
   "id": "dccaf160",
   "metadata": {
    "papermill": {
     "duration": 0.003752,
     "end_time": "2023-06-15T18:09:44.983405",
     "exception": false,
     "start_time": "2023-06-15T18:09:44.979653",
     "status": "completed"
    },
    "tags": []
   },
   "source": [
    "## Series"
   ]
  },
  {
   "cell_type": "code",
   "execution_count": 1,
   "id": "8e2239e3",
   "metadata": {
    "execution": {
     "iopub.execute_input": "2023-06-15T18:09:44.994280Z",
     "iopub.status.busy": "2023-06-15T18:09:44.992984Z",
     "iopub.status.idle": "2023-06-15T18:09:45.007769Z",
     "shell.execute_reply": "2023-06-15T18:09:45.006845Z"
    },
    "papermill": {
     "duration": 0.022661,
     "end_time": "2023-06-15T18:09:45.010106",
     "exception": false,
     "start_time": "2023-06-15T18:09:44.987445",
     "status": "completed"
    },
    "tags": []
   },
   "outputs": [],
   "source": [
    "import numpy as np\n",
    "import pandas as pd"
   ]
  },
  {
   "cell_type": "code",
   "execution_count": 2,
   "id": "2c82413c",
   "metadata": {
    "execution": {
     "iopub.execute_input": "2023-06-15T18:09:45.020518Z",
     "iopub.status.busy": "2023-06-15T18:09:45.019889Z",
     "iopub.status.idle": "2023-06-15T18:09:45.032626Z",
     "shell.execute_reply": "2023-06-15T18:09:45.031383Z"
    },
    "papermill": {
     "duration": 0.021477,
     "end_time": "2023-06-15T18:09:45.035769",
     "exception": false,
     "start_time": "2023-06-15T18:09:45.014292",
     "status": "completed"
    },
    "tags": []
   },
   "outputs": [
    {
     "name": "stdout",
     "output_type": "stream",
     "text": [
      "0     Aditya\n",
      "1    Jaydeep\n",
      "2     Sakshi\n",
      "dtype: object\n"
     ]
    }
   ],
   "source": [
    "my_data = ['Aditya', 'Jaydeep', 'Sakshi']\n",
    "my_series = pd.Series(my_data)\n",
    "\n",
    "print(my_series)"
   ]
  },
  {
   "cell_type": "code",
   "execution_count": 3,
   "id": "6d8d5ee5",
   "metadata": {
    "execution": {
     "iopub.execute_input": "2023-06-15T18:09:45.045980Z",
     "iopub.status.busy": "2023-06-15T18:09:45.045435Z",
     "iopub.status.idle": "2023-06-15T18:09:45.054444Z",
     "shell.execute_reply": "2023-06-15T18:09:45.053548Z"
    },
    "papermill": {
     "duration": 0.016938,
     "end_time": "2023-06-15T18:09:45.056896",
     "exception": false,
     "start_time": "2023-06-15T18:09:45.039958",
     "status": "completed"
    },
    "tags": []
   },
   "outputs": [
    {
     "data": {
      "text/plain": [
       "0    32\n",
       "1    52\n",
       "2    68\n",
       "dtype: int64"
      ]
     },
     "execution_count": 3,
     "metadata": {},
     "output_type": "execute_result"
    }
   ],
   "source": [
    "my_data = [32,52,68]\n",
    "my_series = pd.Series(my_data)\n",
    "\n",
    "my_series"
   ]
  },
  {
   "cell_type": "markdown",
   "id": "5a1c8ca7",
   "metadata": {
    "papermill": {
     "duration": 0.004064,
     "end_time": "2023-06-15T18:09:45.065271",
     "exception": false,
     "start_time": "2023-06-15T18:09:45.061207",
     "status": "completed"
    },
    "tags": []
   },
   "source": [
    "## DataFrame"
   ]
  },
  {
   "cell_type": "code",
   "execution_count": 4,
   "id": "911aff15",
   "metadata": {
    "execution": {
     "iopub.execute_input": "2023-06-15T18:09:45.076410Z",
     "iopub.status.busy": "2023-06-15T18:09:45.075705Z",
     "iopub.status.idle": "2023-06-15T18:09:45.108197Z",
     "shell.execute_reply": "2023-06-15T18:09:45.107275Z"
    },
    "papermill": {
     "duration": 0.04068,
     "end_time": "2023-06-15T18:09:45.110582",
     "exception": false,
     "start_time": "2023-06-15T18:09:45.069902",
     "status": "completed"
    },
    "tags": []
   },
   "outputs": [
    {
     "data": {
      "text/html": [
       "<div>\n",
       "<style scoped>\n",
       "    .dataframe tbody tr th:only-of-type {\n",
       "        vertical-align: middle;\n",
       "    }\n",
       "\n",
       "    .dataframe tbody tr th {\n",
       "        vertical-align: top;\n",
       "    }\n",
       "\n",
       "    .dataframe thead th {\n",
       "        text-align: right;\n",
       "    }\n",
       "</style>\n",
       "<table border=\"1\" class=\"dataframe\">\n",
       "  <thead>\n",
       "    <tr style=\"text-align: right;\">\n",
       "      <th></th>\n",
       "      <th>Name</th>\n",
       "      <th>Roll No</th>\n",
       "    </tr>\n",
       "  </thead>\n",
       "  <tbody>\n",
       "    <tr>\n",
       "      <th>0</th>\n",
       "      <td>Aditya</td>\n",
       "      <td>32</td>\n",
       "    </tr>\n",
       "    <tr>\n",
       "      <th>1</th>\n",
       "      <td>Jaydeep</td>\n",
       "      <td>52</td>\n",
       "    </tr>\n",
       "    <tr>\n",
       "      <th>2</th>\n",
       "      <td>Sakshi</td>\n",
       "      <td>68</td>\n",
       "    </tr>\n",
       "  </tbody>\n",
       "</table>\n",
       "</div>"
      ],
      "text/plain": [
       "      Name  Roll No\n",
       "0   Aditya       32\n",
       "1  Jaydeep       52\n",
       "2   Sakshi       68"
      ]
     },
     "execution_count": 4,
     "metadata": {},
     "output_type": "execute_result"
    }
   ],
   "source": [
    "my_data = [('Aditya',32), ('Jaydeep',52), ('Sakshi',68)]\n",
    "my_df = pd.DataFrame(my_data, columns=['Name','Roll No'])\n",
    "\n",
    "my_df"
   ]
  },
  {
   "cell_type": "code",
   "execution_count": 5,
   "id": "5b0e3154",
   "metadata": {
    "execution": {
     "iopub.execute_input": "2023-06-15T18:09:45.122148Z",
     "iopub.status.busy": "2023-06-15T18:09:45.121391Z",
     "iopub.status.idle": "2023-06-15T18:09:45.128775Z",
     "shell.execute_reply": "2023-06-15T18:09:45.127934Z"
    },
    "papermill": {
     "duration": 0.016009,
     "end_time": "2023-06-15T18:09:45.131217",
     "exception": false,
     "start_time": "2023-06-15T18:09:45.115208",
     "status": "completed"
    },
    "tags": []
   },
   "outputs": [
    {
     "data": {
      "text/plain": [
       "0     Aditya\n",
       "1    Jaydeep\n",
       "2     Sakshi\n",
       "Name: Name, dtype: object"
      ]
     },
     "execution_count": 5,
     "metadata": {},
     "output_type": "execute_result"
    }
   ],
   "source": [
    "my_df['Name']"
   ]
  },
  {
   "cell_type": "code",
   "execution_count": 6,
   "id": "1b7b3d44",
   "metadata": {
    "execution": {
     "iopub.execute_input": "2023-06-15T18:09:45.142724Z",
     "iopub.status.busy": "2023-06-15T18:09:45.142257Z",
     "iopub.status.idle": "2023-06-15T18:09:45.149975Z",
     "shell.execute_reply": "2023-06-15T18:09:45.148780Z"
    },
    "papermill": {
     "duration": 0.016401,
     "end_time": "2023-06-15T18:09:45.152522",
     "exception": false,
     "start_time": "2023-06-15T18:09:45.136121",
     "status": "completed"
    },
    "tags": []
   },
   "outputs": [
    {
     "data": {
      "text/plain": [
       "0    32\n",
       "1    52\n",
       "2    68\n",
       "Name: Roll No, dtype: int64"
      ]
     },
     "execution_count": 6,
     "metadata": {},
     "output_type": "execute_result"
    }
   ],
   "source": [
    "my_df['Roll No']"
   ]
  },
  {
   "cell_type": "markdown",
   "id": "dcabef29",
   "metadata": {
    "papermill": {
     "duration": 0.004535,
     "end_time": "2023-06-15T18:09:45.163592",
     "exception": false,
     "start_time": "2023-06-15T18:09:45.159057",
     "status": "completed"
    },
    "tags": []
   },
   "source": [
    "# Reading Data"
   ]
  },
  {
   "cell_type": "code",
   "execution_count": null,
   "id": "4cfab7ef",
   "metadata": {
    "papermill": {
     "duration": 0.004495,
     "end_time": "2023-06-15T18:09:45.172924",
     "exception": false,
     "start_time": "2023-06-15T18:09:45.168429",
     "status": "completed"
    },
    "tags": []
   },
   "outputs": [],
   "source": []
  },
  {
   "cell_type": "code",
   "execution_count": null,
   "id": "ffea1151-255a-4917-bd0f-b232bdbaa4f3",
   "metadata": {},
   "outputs": [],
   "source": []
  }
 ],
 "metadata": {
  "kernelspec": {
   "display_name": "Python 3 (ipykernel)",
   "language": "python",
   "name": "python3"
  },
  "language_info": {
   "codemirror_mode": {
    "name": "ipython",
    "version": 3
   },
   "file_extension": ".py",
   "mimetype": "text/x-python",
   "name": "python",
   "nbconvert_exporter": "python",
   "pygments_lexer": "ipython3",
   "version": "3.11.2"
  },
  "papermill": {
   "default_parameters": {},
   "duration": 14.251034,
   "end_time": "2023-06-15T18:09:46.102095",
   "environment_variables": {},
   "exception": null,
   "input_path": "__notebook__.ipynb",
   "output_path": "__notebook__.ipynb",
   "parameters": {},
   "start_time": "2023-06-15T18:09:31.851061",
   "version": "2.4.0"
  }
 },
 "nbformat": 4,
 "nbformat_minor": 5
}
