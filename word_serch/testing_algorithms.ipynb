{
 "cells": [
  {
   "cell_type": "markdown",
   "id": "756e4a26-537d-4f3b-942b-ccd0d6af4647",
   "metadata": {},
   "source": [
    "# Word serch algorithms in numpy"
   ]
  },
  {
   "cell_type": "markdown",
   "id": "9225dbbf-f435-48a0-87ee-b2b3144e737a",
   "metadata": {},
   "source": [
    "## Tasks\n",
    "\n",
    "* genrate/import data\n",
    "* genrate a grid and take input from user for the word to be serched in the grid\n",
    "* serch the word (protype 1)"
   ]
  },
  {
   "cell_type": "code",
   "execution_count": 13,
   "id": "9f423310-b6ed-4b0b-a0dc-a2a3d68edfae",
   "metadata": {},
   "outputs": [
    {
     "ename": "ModuleNotFoundError",
     "evalue": "No module named 'data'",
     "output_type": "error",
     "traceback": [
      "\u001b[1;31m---------------------------------------------------------------------------\u001b[0m",
      "\u001b[1;31mModuleNotFoundError\u001b[0m                       Traceback (most recent call last)",
      "Cell \u001b[1;32mIn[13], line 1\u001b[0m\n\u001b[1;32m----> 1\u001b[0m \u001b[38;5;28;01mimport\u001b[39;00m \u001b[38;5;21;01mdata\u001b[39;00m\n\u001b[0;32m      2\u001b[0m \u001b[38;5;28;01mimport\u001b[39;00m \u001b[38;5;21;01mnumpy\u001b[39;00m \u001b[38;5;28;01mas\u001b[39;00m \u001b[38;5;21;01mnp\u001b[39;00m\n\u001b[0;32m      4\u001b[0m rows, colms \u001b[38;5;241m=\u001b[39m \u001b[38;5;28mint\u001b[39m(\u001b[38;5;28minput\u001b[39m(\u001b[38;5;124m\"\u001b[39m\u001b[38;5;124mEnter the row number of your grid : \u001b[39m\u001b[38;5;124m\"\u001b[39m)), \u001b[38;5;28mint\u001b[39m(\u001b[38;5;28minput\u001b[39m(\u001b[38;5;124m\"\u001b[39m\u001b[38;5;124mEnter the column number of your grid : \u001b[39m\u001b[38;5;124m\"\u001b[39m))\n",
      "\u001b[1;31mModuleNotFoundError\u001b[0m: No module named 'data'"
     ]
    }
   ],
   "source": [
    "import data\n",
    "import numpy as np\n",
    "\n",
    "rows, colms = int(input(\"Enter the row number of your grid : \")), int(input(\"Enter the column number of your grid : \"))\n",
    "print(\"Enter the\")"
   ]
  },
  {
   "cell_type": "code",
   "execution_count": 12,
   "id": "cba61555-5c72-4de7-ba0a-8cc6dabdcf1e",
   "metadata": {},
   "outputs": [
    {
     "ename": "NameError",
     "evalue": "name 'data' is not defined",
     "output_type": "error",
     "traceback": [
      "\u001b[1;31m---------------------------------------------------------------------------\u001b[0m",
      "\u001b[1;31mNameError\u001b[0m                                 Traceback (most recent call last)",
      "Cell \u001b[1;32mIn[12], line 1\u001b[0m\n\u001b[1;32m----> 1\u001b[0m data\u001b[38;5;241m.\u001b[39mgen_grid(rows,colms)\n",
      "\u001b[1;31mNameError\u001b[0m: name 'data' is not defined"
     ]
    }
   ],
   "source": [
    "data.gen_grid(rows,colms)"
   ]
  },
  {
   "cell_type": "code",
   "execution_count": null,
   "id": "b857a8bf-4f89-4c81-8e10-e2c9f3b14e0a",
   "metadata": {},
   "outputs": [],
   "source": []
  }
 ],
 "metadata": {
  "kernelspec": {
   "display_name": "classroom",
   "language": "python",
   "name": "classroom"
  },
  "language_info": {
   "codemirror_mode": {
    "name": "ipython",
    "version": 3
   },
   "file_extension": ".py",
   "mimetype": "text/x-python",
   "name": "python",
   "nbconvert_exporter": "python",
   "pygments_lexer": "ipython3",
   "version": "3.11.3"
  }
 },
 "nbformat": 4,
 "nbformat_minor": 5
}
