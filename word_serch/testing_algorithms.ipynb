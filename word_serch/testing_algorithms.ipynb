{
 "cells": [
  {
   "cell_type": "markdown",
   "id": "756e4a26-537d-4f3b-942b-ccd0d6af4647",
   "metadata": {},
   "source": [
    "# Word serch algorithms in numpy"
   ]
  },
  {
   "cell_type": "markdown",
   "id": "9225dbbf-f435-48a0-87ee-b2b3144e737a",
   "metadata": {},
   "source": [
    "## Tasks\n",
    "\n",
    "* genrate/import data\n",
    "* genrate a grid and take input from user for the word to be serched in the grid\n",
    "* serch the word (protype 1)"
   ]
  },
  {
   "cell_type": "code",
   "execution_count": 20,
   "id": "9f423310-b6ed-4b0b-a0dc-a2a3d68edfae",
   "metadata": {},
   "outputs": [
    {
     "name": "stdin",
     "output_type": "stream",
     "text": [
      "Enter the row number of your grid :  5\n",
      "Enter the column number of your grid :  5\n"
     ]
    }
   ],
   "source": [
    "import numpy as np\n",
    "\n",
    "rows, colms = int(input(\"Enter the row number of your grid : \")), int(input(\"Enter the column number of your grid : \"))"
   ]
  },
  {
   "cell_type": "code",
   "execution_count": 26,
   "id": "1027cd4d-5cd5-42bf-ab0d-b07b45b8c252",
   "metadata": {},
   "outputs": [],
   "source": [
    "# def gen_grid(r,c):\n",
    "#     grid = np.full((r,c),1)\n",
    "#     return grid"
   ]
  },
  {
   "cell_type": "code",
   "execution_count": 31,
   "id": "e5ad2616-4f36-48b5-8bd1-25e0ed5d7156",
   "metadata": {},
   "outputs": [],
   "source": [
    "def gen_grid(r,c):\n",
    "    stack = np.empty()\n",
    "    for i in range(r):\n",
    "        temp = list(map(float, input().split()))\n",
    "        \n",
    "    return grid"
   ]
  },
  {
   "cell_type": "code",
   "execution_count": 32,
   "id": "cba61555-5c72-4de7-ba0a-8cc6dabdcf1e",
   "metadata": {},
   "outputs": [
    {
     "ename": "TypeError",
     "evalue": "empty() missing required argument 'shape' (pos 0)",
     "output_type": "error",
     "traceback": [
      "\u001b[1;31m---------------------------------------------------------------------------\u001b[0m",
      "\u001b[1;31mTypeError\u001b[0m                                 Traceback (most recent call last)",
      "Cell \u001b[1;32mIn[32], line 1\u001b[0m\n\u001b[1;32m----> 1\u001b[0m \u001b[38;5;28mprint\u001b[39m(gen_grid(rows,colms))\n",
      "Cell \u001b[1;32mIn[31], line 2\u001b[0m, in \u001b[0;36mgen_grid\u001b[1;34m(r, c)\u001b[0m\n\u001b[0;32m      1\u001b[0m \u001b[38;5;28;01mdef\u001b[39;00m \u001b[38;5;21mgen_grid\u001b[39m(r,c):\n\u001b[1;32m----> 2\u001b[0m     stack \u001b[38;5;241m=\u001b[39m np\u001b[38;5;241m.\u001b[39mempty()\n\u001b[0;32m      3\u001b[0m     \u001b[38;5;28;01mfor\u001b[39;00m i \u001b[38;5;129;01min\u001b[39;00m \u001b[38;5;28mrange\u001b[39m(r):\n\u001b[0;32m      4\u001b[0m         temp \u001b[38;5;241m=\u001b[39m \u001b[38;5;28mlist\u001b[39m(\u001b[38;5;28mmap\u001b[39m(\u001b[38;5;28mfloat\u001b[39m, \u001b[38;5;28minput\u001b[39m()\u001b[38;5;241m.\u001b[39msplit()))\n",
      "\u001b[1;31mTypeError\u001b[0m: empty() missing required argument 'shape' (pos 0)"
     ]
    }
   ],
   "source": [
    "print(gen_grid(rows,colms))"
   ]
  },
  {
   "cell_type": "code",
   "execution_count": null,
   "id": "b857a8bf-4f89-4c81-8e10-e2c9f3b14e0a",
   "metadata": {},
   "outputs": [],
   "source": []
  }
 ],
 "metadata": {
  "kernelspec": {
   "display_name": "classroom",
   "language": "python",
   "name": "classroom"
  },
  "language_info": {
   "codemirror_mode": {
    "name": "ipython",
    "version": 3
   },
   "file_extension": ".py",
   "mimetype": "text/x-python",
   "name": "python",
   "nbconvert_exporter": "python",
   "pygments_lexer": "ipython3",
   "version": "3.11.3"
  }
 },
 "nbformat": 4,
 "nbformat_minor": 5
}
